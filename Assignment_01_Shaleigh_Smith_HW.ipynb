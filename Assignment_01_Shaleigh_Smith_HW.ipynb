{
 "cells": [
  {
   "cell_type": "markdown",
   "metadata": {},
   "source": [
    "# Introduction to Programming (Summer 2018)\n",
    "## Assignment 1 (Due date: 22nd July 2018 )"
   ]
  },
  {
   "cell_type": "markdown",
   "metadata": {},
   "source": [
    "## Question 1\n",
    "### Basic mathematical operations\n",
    "\n",
    "Basic mathematical operations between two integers:\n",
    "\n",
    "Using 5 and 7 perform the following operations:\n",
    "+ addition\n",
    "+ subtraction\n",
    "+ multiplication\n",
    "+ division\n",
    "+ power (5^7)\n",
    "\n",
    "You should output the type of the result as well as the result. eg:\n",
    "+ operation: 3 + 2 \n",
    "+ output: < class 'int'> 5"
   ]
  },
  {
   "cell_type": "code",
   "execution_count": 3,
   "metadata": {},
   "outputs": [
    {
     "name": "stdout",
     "output_type": "stream",
     "text": [
      "operation: 5 + 7 =  12\n",
      "<class 'int'> 12\n",
      "operation: 5 - 7 =  -2\n",
      "<class 'int'> -2\n",
      "operation: 5 * 7 =  35\n",
      "<class 'int'> 35\n",
      "operation: 5 / 7 =  0.7142857142857143\n",
      "<class 'float'> 0.7142857142857143\n",
      "operation: 5 ** 7 =  78125\n",
      "<class 'int'> 78125\n"
     ]
    }
   ],
   "source": [
    "#CODE FOR 1\n",
    "\n",
    "print('operation: 5 + 7 = ', 5 + 7)     #Addition operation and result\n",
    "print(type(5 + 7), 5 + 7)               #Prints the type - this format works for all operations\n",
    "\n",
    "print('operation: 5 - 7 = ', 5 - 7)     #Subtraction operation and result\n",
    "print(type(5 - 7), 5 - 7)            \n",
    "\n",
    "print('operation: 5 * 7 = ', 5 * 7)     #Multiplication operation and result\n",
    "print(type(5 * 7), 5 * 7)             \n",
    "\n",
    "print('operation: 5 / 7 = ', 5 / 7)     #Division operation and result\n",
    "print(type(5 / 7), 5 / 7)              \n",
    "\n",
    "print('operation: 5 ** 7 = ', 5 ** 7)     #Power operation and result\n",
    "print(type(5 ** 7), 5 ** 7)                         "
   ]
  },
  {
   "cell_type": "markdown",
   "metadata": {},
   "source": [
    "## Question 2\n",
    "### Variables\n",
    "\n",
    "Perform the same operations as in Question 1, except use the input() operation to get two integers. In addition store the result of each operation in a variable called result_< operation > eg result_addition for addition."
   ]
  },
  {
   "cell_type": "code",
   "execution_count": null,
   "metadata": {
    "collapsed": true
   },
   "outputs": [],
   "source": [
    "number1 = #ADD CODE TO GET FIRST INT\n",
    "number2 = #ADD CODE TO GET SECOND INT\n",
    "\n",
    "# ADDITION\n",
    "# SUBTRACTION\n",
    "# MULTIPLICATION\n",
    "# DIVISION\n",
    "# POWER\n",
    "\n",
    "# THIS IS TO CHECK YOUR CODE, DON'T CHANGE THIS\n",
    "# IF YOUR CODE IS CORRECT YOU WILL NOT GET ANY ERRORS\n",
    "assert result_addition == number1 + number2, \"{} != {} + {}\".format(result_addition, number1, number2)\n",
    "assert result_subtraction == number1 - number2, \"{} != {} - {}\".format(result_addition, number1, number2)\n",
    "assert result_multiplication == number1 * number2, \"{} != {} * {}\".format(result_addition, number1, number2)\n",
    "assert result_division == number1 / number2, \"{} != {} / {}\".format(result_addition, number1, number2)\n",
    "assert result_power == number1 ** number2, \"{} != {} ** {}\".format(result_addition, number1, number2)"
   ]
  },
  {
   "cell_type": "code",
   "execution_count": 16,
   "metadata": {},
   "outputs": [
    {
     "name": "stdout",
     "output_type": "stream",
     "text": [
      "Enter number 1: 5\n",
      "Enter number 2: 4.0\n",
      "5 + 4 = 9\n",
      "5 - 4 = 1\n",
      "5 * 4 = 20\n",
      "5 / 4 = 1.25\n",
      "5 ** 4 = 625\n"
     ]
    }
   ],
   "source": [
    "# CODE FOR 2\n",
    "\n",
    "number1 = int(float(input('Enter number 1: ')))    # this allows the user to input a float or integer\n",
    "number2 = int(float(input('Enter number 2: '))) \n",
    "\n",
    "result_addition = number1 + number2                               # assign result_addition to a calculated value\n",
    "print(\"{} + {} = {}\".format(number1, number2, result_addition))   # print number 1, operation, number2, equals, result\n",
    "                                                                      # easy to read formatting\n",
    "result_subtraction = number1 - number2\n",
    "print(\"{} - {} = {}\".format(number1, number2, result_subtraction))\n",
    "\n",
    "result_multiplication = number1 * number2\n",
    "print(\"{} * {} = {}\".format(number1, number2, result_multiplication))\n",
    "\n",
    "result_division = number1 / number2\n",
    "print(\"{} / {} = {}\".format(number1, number2, result_division))\n",
    "\n",
    "result_power = number1 ** number2\n",
    "print(\"{} ** {} = {}\".format(number1, number2, result_power))\n"
   ]
  },
  {
   "cell_type": "markdown",
   "metadata": {},
   "source": [
    "## Question 3\n",
    "### Conditionals\n",
    "\n",
    "#### 3.1)\n",
    "Write code to get an integer from the user (assume the user will always enter a integer) as input. If the integer is less than zero print \"The number is negative\" and if the number is greater than or equal to zero print \"The number is positive\"."
   ]
  },
  {
   "cell_type": "code",
   "execution_count": 21,
   "metadata": {},
   "outputs": [
    {
     "name": "stdout",
     "output_type": "stream",
     "text": [
      "Enter Number: 0\n",
      "The number is positive\n"
     ]
    }
   ],
   "source": [
    "# CODE FOR 3.1\n",
    "\n",
    "number = int(input('Enter Number: '))   # user can input an integer here\n",
    "\n",
    "if number < 0:                          # block separates out the negative, the block will be skipped if the value is positive\n",
    "    print('The number is negative')\n",
    "elif number >= 0:                       # block will run only if the number is 0 or positive, which is everything that skips the first block\n",
    "    print('The number is positive')\n"
   ]
  },
  {
   "cell_type": "markdown",
   "metadata": {},
   "source": [
    "#### 3.2)\n",
    "Extend the code from 3.1 to also check whether the number is even or odd. There are four options that can be output by your code now:\n",
    "+ The number is negative and even.\n",
    "+ The number is negative and odd.\n",
    "+ The number is positive and even.\n",
    "+ The number is positive and odd."
   ]
  },
  {
   "cell_type": "code",
   "execution_count": 30,
   "metadata": {},
   "outputs": [
    {
     "name": "stdout",
     "output_type": "stream",
     "text": [
      "Enter Number: 4\n",
      "The number is positive and even\n"
     ]
    }
   ],
   "source": [
    "# CODE FOR 3.2\n",
    "\n",
    "number = int(input('Enter Number: '))               # user inputs integer here\n",
    "\n",
    "if number < 0:                                      # block will only run with negative numbers - first sort, all positive number will skip over the entire block\n",
    "    if number % 2 == 0:                             # A nested if statement that separates even from odd\n",
    "        print('The number is negative and even')\n",
    "    else:                                           # else covers all numbers that aren't even - you can also use an elif here and define 'odd'\n",
    "        print('The number is negative and odd')\n",
    "elif number >= 0:                                   # block accepts 0 and positive numbers\n",
    "    if number % 2 == 0:\n",
    "        print('The number is positive and even')\n",
    "    else:\n",
    "        print('The number is positive and odd')"
   ]
  },
  {
   "cell_type": "markdown",
   "metadata": {},
   "source": [
    "#### 3.3)\n",
    "Extend the code from 3.2 to check whether the user has input a integer. If the number is not an integer print \"Error, the value which was input is not an integer\".\n",
    "\n",
    "There are now 5 possible output messages:\n",
    "+ Error, the value which was input is not an integer.\n",
    "+ The number is negative and even.\n",
    "+ The number is negative and odd.\n",
    "+ The number is positive and even.\n",
    "+ The number is positive and odd."
   ]
  },
  {
   "cell_type": "code",
   "execution_count": 1,
   "metadata": {},
   "outputs": [
    {
     "name": "stdout",
     "output_type": "stream",
     "text": [
      "Enter Number: q\n"
     ]
    },
    {
     "ename": "SystemExit",
     "evalue": "Error, the value which was input is not an integer",
     "output_type": "error",
     "traceback": [
      "An exception has occurred, use %tb to see the full traceback.\n",
      "\u001b[0;31mSystemExit\u001b[0m\u001b[0;31m:\u001b[0m Error, the value which was input is not an integer\n"
     ]
    },
    {
     "name": "stderr",
     "output_type": "stream",
     "text": [
      "/Applications/anaconda3/envs/itp_2018/lib/python3.6/site-packages/IPython/core/interactiveshell.py:2971: UserWarning: To exit: use 'exit', 'quit', or Ctrl-D.\n",
      "  warn(\"To exit: use 'exit', 'quit', or Ctrl-D.\", stacklevel=1)\n"
     ]
    }
   ],
   "source": [
    "# CODE FOR 3.3\n",
    "\n",
    "import sys                           # imported sys allows us to use variables and functions relating to sys (sys.exit)\n",
    "number = input('Enter Number: ')           \n",
    "\n",
    "if number.isdigit():                 # isdigit checks if the argument contains digist 0123456789\n",
    "    number = int(number)             # if isdigit is TRUE then the input is converted from a string to an integer \n",
    "else:                                # else if isdigit is FALSE sys.exit functions to exit the system and give an output\n",
    "    sys.exit('Error, the value which was input is not an integer')\n",
    "\n",
    "if number < 0:                                      \n",
    "    if number % 2 == 0:                             # see explanation 3.2 for these lines\n",
    "        print('The number is negative and even')\n",
    "    else:                                           \n",
    "        print('The number is negative and odd')\n",
    "elif number >= 0:                                   \n",
    "    if number % 2 == 0:\n",
    "        print('The number is positive and even')\n",
    "    else:\n",
    "        print('The number is positive and odd')"
   ]
  },
  {
   "cell_type": "markdown",
   "metadata": {},
   "source": [
    "## Question 4\n",
    "### Looping\n",
    "\n",
    "In lecture 4 we created the code to print squares to the console, these questions will require different shapes to be printed.\n",
    "\n",
    "For each of shapes print using the following characters:\n",
    "+ Start by using only the '*' character\n",
    "+ Use the row index as the character\n",
    "+ Use the column index as the character\n",
    "+ Use the cummulative index as the character\n",
    "\n",
    "**For all of these questions assume that the user will always enter integers and that (1 <= input <= 9)**\n",
    "\n",
    "### Example (printing a square of size 'n'):"
   ]
  },
  {
   "cell_type": "code",
   "execution_count": 75,
   "metadata": {},
   "outputs": [
    {
     "name": "stdout",
     "output_type": "stream",
     "text": [
      "Enter n3\n",
      "* Character\n",
      "---------\n",
      "***\n",
      "***\n",
      "***\n",
      "Row Index\n",
      "---------\n",
      "  0  0  0\n",
      "  1  1  1\n",
      "  2  2  2\n",
      "Column Index\n",
      "---------\n",
      "  0  1  2\n",
      "  0  1  2\n",
      "  0  1  2\n",
      "Cumulative Index\n",
      "---------\n",
      "  0  1  2\n",
      "  3  4  5\n",
      "  6  7  8\n"
     ]
    }
   ],
   "source": [
    "n = int(input(\"Enter n\"))\n",
    "\n",
    "# USING '*' AS THE CHARACTER\n",
    "print('* Character\\n---------')\n",
    "for j in range(n):\n",
    "    line = ''\n",
    "    for i in range(n):\n",
    "        line += '*'\n",
    "    print(line)\n",
    "    \n",
    "# USING THE ROW INDEX AS THE CHARACTER\n",
    "print('Row Index\\n---------')\n",
    "for j in range(n):\n",
    "    line = ''\n",
    "    for i in range(n):\n",
    "        line += '{:>3}'.format(j)\n",
    "    print(line)\n",
    "    \n",
    "# USING THE COL INDEX AS THE CHARACTER\n",
    "print('Column Index\\n---------')\n",
    "for j in range(n):\n",
    "    line = ''\n",
    "    for i in range(n):\n",
    "        line += '{:>3}'.format(i)\n",
    "    print(line)\n",
    "\n",
    "# USING THE CUMULATIVE INDEX AS THE CHARACTER\n",
    "print('Cumulative Index\\n---------')\n",
    "for j in range(n):\n",
    "    line = ''\n",
    "    for i in range(n):\n",
    "        line += '{:>3}'.format(j * n + i)\n",
    "    print(line)"
   ]
  },
  {
   "cell_type": "markdown",
   "metadata": {},
   "source": [
    "#### 4.1)\n",
    "Print a triangle with height and width **n**\n",
    "\n",
    "**eg:**: n = 5\n",
    "```\n",
    "*\n",
    "**\n",
    "***\n",
    "****\n",
    "*****\n",
    "\n",
    "  0\n",
    "  1  1\n",
    "  2  2  2\n",
    "  3  3  3  3\n",
    "  4  4  4  4  4\n",
    "\n",
    "  0\n",
    "  0  1\n",
    "  0  1  2\n",
    "  0  1  2  3\n",
    "  0  1  2  3  4\n",
    "\n",
    "  0\n",
    "  1  2\n",
    "  3  4  5\n",
    "  6  7  8  9 \n",
    " 10 11 12 13 14\n",
    "\n",
    "```"
   ]
  },
  {
   "cell_type": "code",
   "execution_count": 134,
   "metadata": {
    "scrolled": false
   },
   "outputs": [
    {
     "name": "stdout",
     "output_type": "stream",
     "text": [
      "Enter number: 5\n",
      "  *\n",
      "  *  *\n",
      "  *  *  *\n",
      "  *  *  *  *\n",
      "  *  *  *  *  *\n",
      "\n",
      "\n",
      "  0\n",
      "  1  1\n",
      "  2  2  2\n",
      "  3  3  3  3\n",
      "  4  4  4  4  4\n",
      "\n",
      "\n",
      "  0\n",
      "  0  1\n",
      "  0  1  2\n",
      "  0  1  2  3\n",
      "  0  1  2  3  4\n",
      "\n",
      "\n",
      "  0\n",
      "  1  2\n",
      "  3  4  5\n",
      "  6  7  8  9\n",
      " 10 11 12 13 14\n",
      "\n",
      "\n"
     ]
    }
   ],
   "source": [
    "# CODE FOR 4.1\n",
    "\n",
    "n = int(input('Enter number: '))  #input an integer\n",
    "\n",
    "for j in range(n):                   # j is defining the rows in the range, so for 0 in range n we are in the first row j\n",
    "    line = ''                        # this will print n number of rows \n",
    "    for i in range(j + 1):           # nested loop to define columns, we know that j is 0 first, but we want to print one item in the first line so we must add 1 to j, this essentially makes the range (1,5 instead of 0,4)  \n",
    "        line += '{:>3}'.format('*')  # this ensures the row will print symbol *\n",
    "    print(line)                      # so we end up in row j, printing j + 1 (which is i) as symbol *\n",
    "print('\\n')                          # now the code repeats until the range of n is satisfied\n",
    "                                     # final line separates each output with a blank line\n",
    "\n",
    "        \n",
    "        \n",
    "for j in range(n):                  # See the first explanation for the first three lines\n",
    "    line = ''                       \n",
    "    for i in range (j + 1):         \n",
    "        line += '{:>3}'.format(j)   # this defines the formatting of each row by adjusting the number of columns  each time, so you include one more number in each column each time you run the loop\n",
    "    print(line)                         # .format(j) defines the numbers in each column as j which is a singular value in the range of n (either 0,1,2,3, or 4) respectively \n",
    "print('\\n')                             # the space before {} inserts a space between each number, then the line is printed\n",
    "    \n",
    "    \n",
    "    \n",
    "for j in range(n):                  # See the first explanation for the first three lines\n",
    "    line = ''                       \n",
    "    for i in range (j + 1):         # this defines the formatting of each row by adjusting the number of columns each time, so you include one more number in each column each time you run the loop\n",
    "        line += '{:>3}'.format(i)       # .format(i) defines the numbers in each column, in this case the column is defined by i which is j + 1, so each consecutive column increases the number value by 1\n",
    "    print(line)                         # the space before {} inserts a space between each number, then the line is printed\n",
    "print('\\n')                             \n",
    "\n",
    "\n",
    "for j in range(n):                  # See the first explanation for the first three lines\n",
    "    line = ''\n",
    "    for i in range(j + 1):                           # this defines the formatting of each row by adjusting the number of columns each time, so you include one more number in each column each time you run the loop            \n",
    "        line += '{:>3}'.format(j * (j + 1)//2 + i)   # these equations defines the value being printed, creating a consectuive sequence despite the increase in number each row\n",
    "    print(line)\n",
    "print('\\n')\n",
    "            \n"
   ]
  },
  {
   "cell_type": "markdown",
   "metadata": {
    "collapsed": true
   },
   "source": [
    "##### 4.2 \n",
    "\n",
    "#### 4.2)\n",
    "Print a rectangle with height **n** and width **m**\n",
    "\n",
    "**eg:**: n = 3, m = 2\n",
    "```\n",
    "**\n",
    "**\n",
    "**\n",
    "\n",
    "  0  0\n",
    "  1  1\n",
    "  2  2\n",
    "\n",
    "  0  1\n",
    "  0  1\n",
    "  0  1\n",
    "\n",
    "  0  1\n",
    "  2  3\n",
    "  4  5\n",
    "```"
   ]
  },
  {
   "cell_type": "code",
   "execution_count": 95,
   "metadata": {},
   "outputs": [
    {
     "name": "stdout",
     "output_type": "stream",
     "text": [
      "Enter n: 3\n",
      "Enter m: 2\n",
      "**\n",
      "**\n",
      "**\n",
      "\n",
      "\n",
      " 0 0\n",
      " 1 1\n",
      " 2 2\n",
      "\n",
      "\n",
      " 0 1\n",
      " 0 1\n",
      " 0 1\n",
      "\n",
      "\n",
      " 0 1\n",
      " 2 3\n",
      " 4 5\n",
      "\n",
      "\n"
     ]
    }
   ],
   "source": [
    "# CODE FOR 4.2\n",
    "\n",
    "n = int(input(\"Enter n: \"))\n",
    "m = int(input(\"Enter m: \"))\n",
    "\n",
    "for j in range(n):                # defines the number of rows (j) in respect to n (3)\n",
    "    line = ''\n",
    "    for i in range(m):            # nested loop defines the number of columns (i) in respect to m (2)\n",
    "        line += '{}'.format('*')  # this ensures the row will print symbol *\n",
    "    print(line)                   # print the line then repeat the loop \n",
    "print('\\n')                       # separates each output with a blank line \n",
    "\n",
    "\n",
    "for j in range(n):                 # see above explanation\n",
    "    line = ''\n",
    "    for i in range(m):             # this nested loop defines the columns in respect to range of m, meaning there will only be two columns, 0 and 1\n",
    "        line += ' {}'.format(j)  # .format(j) defines the numbers in each column as j which is a singular value in the range of n (either 0,1, or 2) respectively\n",
    "    print(line)\n",
    "print('\\n')\n",
    "\n",
    "\n",
    "for j in range(n):                 # see above explanation\n",
    "    line = ''\n",
    "    for i in range(m):             # this nested loop defines the columns in respect to range of n, meaning there will only be two columns, 0 and 1\n",
    "        line += ' {}'.format(i)  # .format(i) defines the numbers in each column as i which is a singular value in the range of m (either 0 or 1) respectively\n",
    "    print(line)\n",
    "print('\\n')\n",
    "\n",
    "\n",
    "for j in range(n):                       # see above explanation\n",
    "    line = ''\n",
    "    for i in range(m):                   # this nested loop defines the columns in respect to range of m, meaning there will only be two columns, 0 and 1\n",
    "        line += ' {}'.format(j * m + i)  # .format(j * m + i) defines the numbers in each column as j (0,1,2) multiplies it by m (2) then adds i (0,1) to it in respect the the position in the row and column\n",
    "    print(line)                              # NOTE - i and j represent position and values withing m and n respectively\n",
    "print('\\n')\n"
   ]
  },
  {
   "cell_type": "markdown",
   "metadata": {},
   "source": [
    "## Question 5\n",
    "### Finding Prime Numbers\n",
    "\n",
    "Write code which finds all of the prime numbers between 1 and 100 and stores them in a list.\n",
    "Print the list of prime numbers.\n",
    "\n",
    "A prime number is a number which is only divisible by itself and 1.\n",
    "\n",
    "Some starting code has been provided."
   ]
  },
  {
   "cell_type": "code",
   "execution_count": null,
   "metadata": {},
   "outputs": [],
   "source": [
    "results = []\n",
    "for i in range(1, 101):\n",
    "    prime = True\n",
    "    for j in range(2, i//2 + 1):\n",
    "        if #COMPLETE#:\n",
    "            prime = False\n",
    "    #COMPLETE#\n",
    "print(results)\n",
    "# expected output: [1, 2, 3, 4, 5, 7, 11, 13, 17, 19, 23, 29, 31, 37, 41, 43, 47, 53, 59, 61, 67, 71, 73, 79, 83, 89, 97]"
   ]
  },
  {
   "cell_type": "code",
   "execution_count": 126,
   "metadata": {},
   "outputs": [
    {
     "name": "stdout",
     "output_type": "stream",
     "text": [
      "[1, 2, 3, 5, 7, 11, 13, 17, 19, 23, 29, 31, 37, 41, 43, 47, 53, 59, 61, 67, 71, 73, 79, 83, 89, 97]\n"
     ]
    }
   ],
   "source": [
    "# CODE FOR 5\n",
    "\n",
    "results = []\n",
    "for i in range(1, 101):\n",
    "    prime = True\n",
    "    for j in range(2, i//2 + 1):  \n",
    "        if i % j == 0:               # this is the definition of a prime number, if i is divisible by j at any point it is not prime\n",
    "            prime = False\n",
    "    if prime:                        # now we only include the prime number in this if statement (prime must be true)\n",
    "        results.append(i)            # if it is prime, we add (append) the value (i) to the results list\n",
    "print(results)"
   ]
  },
  {
   "cell_type": "markdown",
   "metadata": {},
   "source": [
    "## Question 6\n",
    "### git and github\n",
    "\n",
    "1. Create a directory called 'assignments' for all of the homework assignments.\n",
    "    + **Do not** make this directory in the 2018_ITP directory which contains the lecture material\n",
    "2. Add this Jupyter notebook to the directory you just created\n",
    "3. Initialize this directory as a git repository\n",
    "4. Add your assignment notebook to the repository\n",
    "5. Commit your assignment\n",
    "6. On github.com create a new repository called itp_2018_assigments\n",
    "7. Link the github repository with your local repository\n",
    "8. Email the link to your github repository to Mark.Grivainis@nyumc.org and Himanshu.Grover@nyumc.org\n",
    "\n",
    "All of your homework will be added to this repository, you will need to have pushed your changes before the deadline for any of the assignments."
   ]
  },
  {
   "cell_type": "code",
   "execution_count": null,
   "metadata": {},
   "outputs": [],
   "source": []
  },
  {
   "cell_type": "code",
   "execution_count": null,
   "metadata": {},
   "outputs": [],
   "source": []
  }
 ],
 "metadata": {
  "kernelspec": {
   "display_name": "Python 3",
   "language": "python",
   "name": "python3"
  },
  "language_info": {
   "codemirror_mode": {
    "name": "ipython",
    "version": 3
   },
   "file_extension": ".py",
   "mimetype": "text/x-python",
   "name": "python",
   "nbconvert_exporter": "python",
   "pygments_lexer": "ipython3",
   "version": "3.6.6"
  }
 },
 "nbformat": 4,
 "nbformat_minor": 2
}

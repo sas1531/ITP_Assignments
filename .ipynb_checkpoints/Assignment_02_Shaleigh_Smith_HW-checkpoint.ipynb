{
 "cells": [
  {
   "cell_type": "markdown",
   "metadata": {},
   "source": [
    "# Introduction to Programming (Summer2018)\n",
    "\n",
    "## Assignment 2 (Due date: 02 August 2018, by midnight)"
   ]
  },
  {
   "cell_type": "markdown",
   "metadata": {},
   "source": [
    "### Question 1\n",
    "\n",
    "#### String Handling\n",
    "#### 1.1) \n",
    "Complete the following function which checks whether a DNA sequence is valid. A valid DNA sequence will only contain **'A,a,C,c,G,g,T,t'** characters for this question. If the sequence is valid return **True**, otherwise return **False**.\n",
    "\n",
    "*When running the block, the assert statements will raise errors if your program does not return the correct response.*\n"
   ]
  },
  {
   "cell_type": "code",
   "execution_count": 1,
   "metadata": {},
   "outputs": [],
   "source": [
    "#def validity_check(sequence):\n",
    "    # COMPLETE\n",
    "    #return False\n",
    "\n",
    "\n",
    "# Code for 1.1\n",
    "\n",
    "# Process:\n",
    "# make the entire sequence upper case - easier to check\n",
    "# define a list of valid DNA bases\n",
    "# address one base at a time in the sequence\n",
    "# if the base is not in the sequence, return False\n",
    "# if none of the bases are False, return True\n",
    "\n",
    "\n",
    "def validity_check(sequence):\n",
    "    sequence = sequence.upper()               \n",
    "    # print(sequence) \n",
    "    valid_DNA = ['A','C','G','T']             \n",
    "    for base in range(0, len(sequence)):      \n",
    "         if sequence[base] not in valid_DNA:  \n",
    "            return False                        \n",
    "    return True                               \n",
    "    \n",
    "    \n",
    "assert validity_check('ACGT') == True, 'validity_check(\"ACGT\") returns False, should return True'\n",
    "assert validity_check('acgt') == True, 'validity_check(\"acgt\") returns False, should return True'\n",
    "assert validity_check('AGUC') == False, 'validity_check(\"AGUC\") returns True, should return False'\n",
    "assert validity_check('PPPP') == False, 'validity_check(\"PPPP\") returns True, should return False'"
   ]
  },
  {
   "cell_type": "code",
   "execution_count": 13,
   "metadata": {},
   "outputs": [
    {
     "data": {
      "text/plain": [
       "True"
      ]
     },
     "execution_count": 13,
     "metadata": {},
     "output_type": "execute_result"
    }
   ],
   "source": [
    "validity_check('ACGT')"
   ]
  },
  {
   "cell_type": "code",
   "execution_count": 14,
   "metadata": {},
   "outputs": [
    {
     "data": {
      "text/plain": [
       "True"
      ]
     },
     "execution_count": 14,
     "metadata": {},
     "output_type": "execute_result"
    }
   ],
   "source": [
    "validity_check('acgt')"
   ]
  },
  {
   "cell_type": "code",
   "execution_count": 15,
   "metadata": {},
   "outputs": [
    {
     "data": {
      "text/plain": [
       "False"
      ]
     },
     "execution_count": 15,
     "metadata": {},
     "output_type": "execute_result"
    }
   ],
   "source": [
    "validity_check('AGUC')"
   ]
  },
  {
   "cell_type": "code",
   "execution_count": 16,
   "metadata": {},
   "outputs": [
    {
     "data": {
      "text/plain": [
       "False"
      ]
     },
     "execution_count": 16,
     "metadata": {},
     "output_type": "execute_result"
    }
   ],
   "source": [
    "validity_check('PPPP')"
   ]
  },
  {
   "cell_type": "markdown",
   "metadata": {},
   "source": [
    "#### 1.2)\n",
    "Complete the following function which will return the reverse complement of a DNA sequence.\n",
    "\n",
    "The reverse complement is calculated by reversing the sequence and substituting: \n",
    "+ 'A' with 'T'\n",
    "+ 'T' with 'A'\n",
    "+ 'G' with 'C'\n",
    "+ 'C' with 'G'\n",
    "\n",
    "EG:\n",
    "```\n",
    "reverse_complement('AATC')\n",
    "\n",
    "step 1 - reverse the sequence:\n",
    "    reverse = 'CTAA'\n",
    "    \n",
    "step 2 - replace the characters with their complement:\n",
    "    'C' -> 'G'\n",
    "    'T' -> 'A'\n",
    "    'A' -> 'T'\n",
    "    'A' -> 'T'\n",
    "    \n",
    "    complement = 'GATT' \n",
    "```\n",
    "\n",
    "*When running the block, the assert statements will raise errors if your program does not return the correct response.*"
   ]
  },
  {
   "cell_type": "code",
   "execution_count": 2,
   "metadata": {},
   "outputs": [],
   "source": [
    "#def reverse_complement(sequence):\n",
    "    # COMPLETE\n",
    "    #return sequence\n",
    "\n",
    "# Code for 1.2\n",
    "\n",
    "# Process:\n",
    "# reverse sequence is the negative index of the sequence\n",
    "# print this to check \n",
    "# make a dictionary where key is the base and value is the complement base\n",
    "# make an empty list that you can fill with the reverse complement\n",
    "# use the base (key) to call the complement (value) then append that to the empty list\n",
    "# combine the elements of the list to make a string\n",
    "# return the reverse complement string \n",
    "\n",
    "\n",
    "def reverse_complement(sequence):   \n",
    "    reverse_seq = sequence[::-1]                \n",
    "    #print(reverse_sequence)        \n",
    "    \n",
    "    reverse_comp_dict = {'A':'T', 'a':'t', 'C':'G', 'c':'g',  \n",
    "                         'G':'C', 'g':'c', 'T':'A', 't':'a'}  \n",
    "    \n",
    "    reverse_comp = []                                \n",
    "    for base in reverse_seq:                         \n",
    "        reverse_comp.append(reverse_comp_dict[base])    \n",
    "    reverse_comp = ''.join(reverse_comp)             \n",
    "    return reverse_comp                              \n",
    "\n",
    "\n",
    "assert reverse_complement('AAGCT') == 'AGCTT', 'reverse_complement(\"AAGCT\") should return \"AGCTT\"'\n",
    "assert reverse_complement('tggca') in ['tgcca','TGCCA'], 'reverse_complement(\"tggca\") should return \"tgcca\"'"
   ]
  },
  {
   "cell_type": "code",
   "execution_count": 56,
   "metadata": {},
   "outputs": [
    {
     "data": {
      "text/plain": [
       "'AGCTT'"
      ]
     },
     "execution_count": 56,
     "metadata": {},
     "output_type": "execute_result"
    }
   ],
   "source": [
    "reverse_complement('AAGCT')"
   ]
  },
  {
   "cell_type": "code",
   "execution_count": 57,
   "metadata": {},
   "outputs": [
    {
     "data": {
      "text/plain": [
       "'tgcca'"
      ]
     },
     "execution_count": 57,
     "metadata": {},
     "output_type": "execute_result"
    }
   ],
   "source": [
    "reverse_complement('tggca')"
   ]
  },
  {
   "cell_type": "markdown",
   "metadata": {},
   "source": [
    "#### 1.3)\n",
    "\n",
    "Write a script which will allow a user to input multiple DNA sequences one at a time. You do not know how many in advance and should take this into account. Your code will then check if the sequence is valid and return the reverse complement if it is. If the sequence is not valid, print an error message alerting the user to this.\n",
    "\n",
    "It would be a good idea to use the functions you created in 1.1 and 1.2\n",
    "\n",
    "```\n",
    "PSEUDOCODE:\n",
    "loop until '' is entered:\n",
    "    prompt user for a new seq\n",
    "    if seq is valid:\n",
    "        output reverse complement\n",
    "    else\n",
    "        output error message indicating that sequence was invalid\n",
    "```"
   ]
  },
  {
   "cell_type": "code",
   "execution_count": 3,
   "metadata": {},
   "outputs": [
    {
     "name": "stdout",
     "output_type": "stream",
     "text": [
      "Please enter DNA sequence: AT\n",
      "AT\n",
      "Please enter DNA sequence: AG\n",
      "CT\n",
      "Please enter DNA sequence: agggt\n",
      "accct\n",
      "Please enter DNA sequence: AUG\n"
     ]
    },
    {
     "ename": "SystemExit",
     "evalue": "Error, the sequence is not valid",
     "output_type": "error",
     "traceback": [
      "An exception has occurred, use %tb to see the full traceback.\n",
      "\u001b[0;31mSystemExit\u001b[0m\u001b[0;31m:\u001b[0m Error, the sequence is not valid\n"
     ]
    },
    {
     "name": "stderr",
     "output_type": "stream",
     "text": [
      "/Applications/anaconda3/envs/itp_2018/lib/python3.6/site-packages/IPython/core/interactiveshell.py:2971: UserWarning: To exit: use 'exit', 'quit', or Ctrl-D.\n",
      "  warn(\"To exit: use 'exit', 'quit', or Ctrl-D.\", stacklevel=1)\n"
     ]
    }
   ],
   "source": [
    "# Code for 1.3\n",
    "\n",
    "# Process:\n",
    "# import sys to you can exit the system when there's an error\n",
    "# use a while true loop to allow the user to input multiple sequences\n",
    "# if the sequence is valid (True), print the reverse complement\n",
    "# if the sequence is not valid (False), use sys.exit to get out of the loop\n",
    "\n",
    "\n",
    "def DNA_check():\n",
    "    import sys                                           \n",
    "    while True:                                         \n",
    "        sequence = input('Please enter DNA sequence: ')    \n",
    "        if validity_check(sequence) is True:             \n",
    "            print(reverse_complement(sequence))            \n",
    "        else:                                \n",
    "            sys.exit('Error, the sequence is not valid') \n",
    "                                                            \n",
    "DNA_check()"
   ]
  },
  {
   "cell_type": "markdown",
   "metadata": {},
   "source": [
    "### Question 2\n",
    "\n",
    "In cryptography there are many ways to code messages. An easy method is to shift the alphabet by a given amount, this is known as a Caesar Cipher http://practicalcryptography.com/ciphers/caesar-cipher/.\n",
    "\n",
    "EG:\n",
    "\n",
    "Shift|A|B|C|D|E|F|G|H|I|J|K|L|M|N|O|P|Q|R|S|T|U|V|W|X|Y|Z|\n",
    "-|-|-|-|-|-|-|-|-|-|-|-|-|-|-|-|-|-|-|-|-|-|-|-|-|-|-|\n",
    "1|B|C|D|E|F|G|H|I|J|K|L|M|N|O|P|Q|R|S|T|U|V|W|X|Y|Z|A|\n",
    "2|C|D|E|F|G|H|I|J|K|L|M|N|O|P|Q|R|S|T|U|V|W|X|Y|Z|A|B|\n",
    "10|K|L|M|N|O|P|Q|R|S|T|U|V|W|X|Y|Z|A|B|C|D|E|F|G|H|I|J|\n",
    "\n",
    "In the case of using an alphabet which has been shifted by 1, 'A' will be replaced with 'B', 'B' will be replaced with 'C', ..., 'Z' is replaced with 'A'.\n",
    "\n",
    "#### 2.1)\n",
    "Complete the following function which takes a string and an integer which represents the shift and returns an encoded string."
   ]
  },
  {
   "cell_type": "code",
   "execution_count": 4,
   "metadata": {},
   "outputs": [],
   "source": [
    "# def encode_string(message, shift=5):\n",
    "#     return message\n",
    "\n",
    "\n",
    "\n",
    "# Code for 2.1\n",
    "\n",
    "# Process:\n",
    "# Make sure your shift is an integer, set the default shift to 5\n",
    "# Create two dictionaries that assign numbers and letters as both the keys and values\n",
    "# Use the forward dictionary to call the number for each letter, append the numbers to a list\n",
    "# Apply the shift to each number in the list:\n",
    "    # Make sure that the number stays within the range of 1:26 using math/inequalities\n",
    "# Use the backward dictionary to call the letter for each number\n",
    "# Append the letters to a list and return the joined list\n",
    "# See below... \n",
    "\n",
    "\n",
    "def encode_string(message, shift=5):\n",
    "    shift = int(shift)\n",
    "    message = message.upper()\n",
    "    \n",
    "    code_dict_for = {'A':1, 'B':2, 'C':3, 'D':4, 'E':5, 'F':6, 'G':7, 'H':8, 'I':9, \n",
    "                     'J':10, 'K':11, 'L':12, 'M':13, 'N':14, 'O':15, 'P':16, 'Q':17, \n",
    "                     'R':18, 'S':19, 'T':20, 'U':21, 'V':22, 'W':23, 'X':24, 'Y':25, 'Z':26}\n",
    "    \n",
    "    code_dict_back = {1:'A', 2:'B', 3:'C', 4:'D', 5:'E', 6:'F', 7:'G', 8:'H', 9:'I', \n",
    "                      10:'J', 11:'K', 12:'L', 13:'M', 14:'N', 15:'O', 16:'P', 17:'Q', \n",
    "                      18:'R', 19:'S', 20:'T', 21:'U', 22:'V', 23:'W', 24:'X', 25:'Y', 26:'Z'}\n",
    "    \n",
    "    encoded_message_for = [] \n",
    "    for letter in message:\n",
    "        encoded_message_for.append(code_dict_for[letter])\n",
    "    #return encoded_message_for\n",
    "\n",
    "    encoded_message_back = []\n",
    "    for number in encoded_message_for:\n",
    "        number = number + shift          # base shift is the number + shift\n",
    "        if number > 26:                  # if that value goes over 26 its no longer in the dict\n",
    "            number = number - 26         # substract 26 to create a number shift always in 1:26\n",
    "        else:                            # if the number !> 26, it doesn't need to be adjusted\n",
    "            number = number              \n",
    "        encoded_message_back.append(code_dict_back[number])\n",
    "    encoded_message_back = ''.join(encoded_message_back)\n",
    "    return encoded_message_back\n",
    "\n",
    "\n",
    "assert encode_string('ABCD', 1) == 'BCDE', \"encode_string('ABCD', 1) should return 'BCDE'\"\n",
    "assert encode_string('FOOBAR', 3) == 'IRREDU', \"encode_string('FOOBAR', 3) should return 'IRREDU'\"\n",
    "assert encode_string('XYZ') == 'CDE', \"encode_string('XYZ') should return 'CDE'\""
   ]
  },
  {
   "cell_type": "code",
   "execution_count": 210,
   "metadata": {},
   "outputs": [
    {
     "data": {
      "text/plain": [
       "'BCDE'"
      ]
     },
     "execution_count": 210,
     "metadata": {},
     "output_type": "execute_result"
    }
   ],
   "source": [
    "encode_string('ABCD', 1)"
   ]
  },
  {
   "cell_type": "code",
   "execution_count": 211,
   "metadata": {},
   "outputs": [
    {
     "data": {
      "text/plain": [
       "'IRREDU'"
      ]
     },
     "execution_count": 211,
     "metadata": {},
     "output_type": "execute_result"
    }
   ],
   "source": [
    "encode_string('FOOBAR', 3)"
   ]
  },
  {
   "cell_type": "code",
   "execution_count": 212,
   "metadata": {},
   "outputs": [
    {
     "data": {
      "text/plain": [
       "'CDE'"
      ]
     },
     "execution_count": 212,
     "metadata": {},
     "output_type": "execute_result"
    }
   ],
   "source": [
    "encode_string('XYZ')"
   ]
  },
  {
   "cell_type": "markdown",
   "metadata": {},
   "source": [
    "#### 2.2)\n",
    "\n",
    "Complete the following function which takes a string and an integer which represents the shift and returns the decoded message"
   ]
  },
  {
   "cell_type": "code",
   "execution_count": 215,
   "metadata": {},
   "outputs": [],
   "source": [
    "# def decode_string(message, shift=5):\n",
    "#     #COMPLETE\n",
    "#     return message\n",
    "\n",
    "\n",
    "\n",
    "# Code for 2.2\n",
    "\n",
    "# Process:\n",
    "# Use the same process from 2.1 (with the same dictionaries)\n",
    "# The difference between the codes falls in the math/inequalities portion \n",
    "    # This is because you are reverseing the way the cipher shifts\n",
    "# See Below...\n",
    "\n",
    "\n",
    "def decode_string(message, shift=5):\n",
    "    shift = int(shift)\n",
    "    message = message.upper()\n",
    "    \n",
    "    code_dict_for = {'A':1, 'B':2, 'C':3, 'D':4, 'E':5, 'F':6, 'G':7, 'H':8, 'I':9, \n",
    "                     'J':10, 'K':11, 'L':12, 'M':13, 'N':14, 'O':15, 'P':16, 'Q':17, \n",
    "                     'R':18, 'S':19, 'T':20, 'U':21, 'V':22, 'W':23, 'X':24, 'Y':25, 'Z':26}\n",
    "    \n",
    "    code_dict_back = {1:'A', 2:'B', 3:'C', 4:'D', 5:'E', 6:'F', 7:'G', 8:'H', 9:'I', \n",
    "                      10:'J', 11:'K', 12:'L', 13:'M', 14:'N', 15:'O', 16:'P', 17:'Q', \n",
    "                      18:'R', 19:'S', 20:'T', 21:'U', 22:'V', 23:'W', 24:'X', 25:'Y', 26:'Z'}\n",
    "\n",
    "    \n",
    "    decoded_message_for = [] \n",
    "    for letter in message:\n",
    "        decoded_message_for.append(code_dict_for[letter])\n",
    "\n",
    "    decoded_message_back = []\n",
    "    for number in decoded_message_for:\n",
    "        number = number - shift         # base shift is the number - shift \n",
    "        if number <= 0:                 # if the number is 0 or negative, its not in the dict\n",
    "            number = number + 26        # so add 26 to creat a number shift always in 1:26\n",
    "        else:                           # if the number !<= 0 then it doesn't need to be adjusted\n",
    "            number = number \n",
    "        decoded_message_back.append(code_dict_back[number])\n",
    "    decoded_message_back = ''.join(decoded_message_back)\n",
    "    return decoded_message_back\n",
    "\n",
    "\n",
    "assert decode_string('MNO', 10) == 'CDE', \"decode_string('MNO', 10) should return 'CDE'\"\n",
    "assert decode_string('PYTHON') == 'KTOCJI', \"decode_string('PYTHON') should return 'KTOCJI'\"\n",
    "\n",
    "assert decode_string(encode_string('ABCD', 1), 1) == 'ABCD', \"decode_string(encode_string('ABCD', 1), 1) should return 'ABCD'\"\n",
    "assert decode_string(encode_string('FOOBAR', 3), 3) == 'FOOBAR', \"decode_string(encode_string('FOOBAR', 3), 3) should return 'FOOBAR'\"\n",
    "assert decode_string(encode_string('XYZ')) == 'XYZ', \"decode_string(encode_string('XYZ')) should return 'XYZ'\""
   ]
  },
  {
   "cell_type": "code",
   "execution_count": 216,
   "metadata": {},
   "outputs": [
    {
     "data": {
      "text/plain": [
       "'CDE'"
      ]
     },
     "execution_count": 216,
     "metadata": {},
     "output_type": "execute_result"
    }
   ],
   "source": [
    "decode_string('MNO', 10)"
   ]
  },
  {
   "cell_type": "code",
   "execution_count": 217,
   "metadata": {},
   "outputs": [
    {
     "data": {
      "text/plain": [
       "'KTOCJI'"
      ]
     },
     "execution_count": 217,
     "metadata": {},
     "output_type": "execute_result"
    }
   ],
   "source": [
    "decode_string('PYTHON')"
   ]
  },
  {
   "cell_type": "code",
   "execution_count": 218,
   "metadata": {},
   "outputs": [
    {
     "data": {
      "text/plain": [
       "'ABCD'"
      ]
     },
     "execution_count": 218,
     "metadata": {},
     "output_type": "execute_result"
    }
   ],
   "source": [
    "decode_string(encode_string('ABCD', 1), 1)"
   ]
  },
  {
   "cell_type": "code",
   "execution_count": 219,
   "metadata": {},
   "outputs": [
    {
     "data": {
      "text/plain": [
       "'FOOBAR'"
      ]
     },
     "execution_count": 219,
     "metadata": {},
     "output_type": "execute_result"
    }
   ],
   "source": [
    "decode_string(encode_string('FOOBAR', 3), 3)"
   ]
  },
  {
   "cell_type": "code",
   "execution_count": 220,
   "metadata": {},
   "outputs": [
    {
     "data": {
      "text/plain": [
       "'XYZ'"
      ]
     },
     "execution_count": 220,
     "metadata": {},
     "output_type": "execute_result"
    }
   ],
   "source": [
    "decode_string(encode_string('XYZ'))"
   ]
  },
  {
   "cell_type": "markdown",
   "metadata": {},
   "source": [
    "### Question 3\n",
    "\n",
    "Write code which will reproduce each of the following patterns given an input size N\n",
    "\n",
    "Example:\n",
    "\n",
    "```\n",
    "N = 10\n",
    "\n",
    " x x x x x x x x x x\n",
    " x o x o x o x o x o\n",
    " x x x x x x x x x x\n",
    " x o x o x o x o x o\n",
    " x x x x x x x x x x\n",
    " x o x o x o x o x o\n",
    " x x x x x x x x x x\n",
    " x o x o x o x o x o\n",
    " x x x x x x x x x x\n",
    " x o x o x o x o x o\n",
    "\n",
    "```"
   ]
  },
  {
   "cell_type": "code",
   "execution_count": 87,
   "metadata": {},
   "outputs": [
    {
     "name": "stdout",
     "output_type": "stream",
     "text": [
      " x x x x x x x x x x\n",
      " x o x o x o x o x o\n",
      " x x x x x x x x x x\n",
      " x o x o x o x o x o\n",
      " x x x x x x x x x x\n",
      " x o x o x o x o x o\n",
      " x x x x x x x x x x\n",
      " x o x o x o x o x o\n",
      " x x x x x x x x x x\n",
      " x o x o x o x o x o\n"
     ]
    }
   ],
   "source": [
    "N = 10\n",
    "pattern = [[' o' for x in range(N)] for y in range(N)]\n",
    "\n",
    "for j in range(N):\n",
    "    for i  in range(N):\n",
    "        if j%2 == 0 or i%2 == 0:\n",
    "            pattern[j][i] = ' x'\n",
    "\n",
    "for row in pattern:\n",
    "    print(''.join(row))"
   ]
  },
  {
   "cell_type": "markdown",
   "metadata": {},
   "source": [
    "#### 3.1)\n",
    "\n",
    "```\n",
    "N = 10\n",
    "\n",
    " x x x x x x x x x x\n",
    " x o o o o o o o o x\n",
    " x o o o o o o o o x\n",
    " x o o o o o o o o x\n",
    " x o o o o o o o o x\n",
    " x o o o o o o o o x\n",
    " x o o o o o o o o x\n",
    " x o o o o o o o o x\n",
    " x o o o o o o o o x\n",
    " x x x x x x x x x x\n",
    "```"
   ]
  },
  {
   "cell_type": "code",
   "execution_count": 111,
   "metadata": {},
   "outputs": [
    {
     "name": "stdout",
     "output_type": "stream",
     "text": [
      "N = 10\n",
      "\n",
      "\n",
      " x x x x x x x x x x\n",
      " x o o o o o o o o x\n",
      " x o o o o o o o o x\n",
      " x o o o o o o o o x\n",
      " x o o o o o o o o x\n",
      " x o o o o o o o o x\n",
      " x o o o o o o o o x\n",
      " x o o o o o o o o x\n",
      " x o o o o o o o o x\n",
      " x x x x x x x x x x\n"
     ]
    }
   ],
   "source": [
    "# Code for 3.1\n",
    "\n",
    "# Process:\n",
    "# the grid is already set up for us, j defines the row and i defines the column \n",
    "# j and i only need to print when j = 0 or 9 and i = 0 or 9\n",
    "# use modulo to set this parameter\n",
    "# see below\n",
    "\n",
    "N = 10\n",
    "\n",
    "print('N = 10')\n",
    "print(\"\\n\")\n",
    "\n",
    "pattern = [[' o' for x in range(N)] for y in range(N)]\n",
    "\n",
    "for j in range(N):\n",
    "    for i  in range(N):\n",
    "        if j%9 == 0 or i%9 == 0:\n",
    "            pattern[j][i] = ' x'\n",
    "\n",
    "for row in pattern:\n",
    "    print(''.join(row))"
   ]
  },
  {
   "cell_type": "markdown",
   "metadata": {},
   "source": [
    "#### 3.2)\n",
    "\n",
    "```\n",
    "N = 9\n",
    "\n",
    " x o o o o o o o x\n",
    " o x o o o o o x o\n",
    " o o x o o o x o o\n",
    " o o o x o x o o o\n",
    " o o o o x o o o o\n",
    " o o o x o x o o o\n",
    " o o x o o o x o o\n",
    " o x o o o o o x o\n",
    " x o o o o o o o x\n",
    " \n",
    "N = 10\n",
    "\n",
    " x o o o o o o o o x\n",
    " o x o o o o o o x o\n",
    " o o x o o o o x o o\n",
    " o o o x o o x o o o\n",
    " o o o o x x o o o o\n",
    " o o o o x x o o o o\n",
    " o o o x o o x o o o\n",
    " o o x o o o o x o o\n",
    " o x o o o o o o x o\n",
    " x o o o o o o o o x\n",
    "\n",
    "\n",
    "```"
   ]
  },
  {
   "cell_type": "code",
   "execution_count": 110,
   "metadata": {},
   "outputs": [
    {
     "name": "stdout",
     "output_type": "stream",
     "text": [
      "N = 9\n",
      "\n",
      "\n",
      " x o o o o o o o x\n",
      " o x o o o o o x o\n",
      " o o x o o o x o o\n",
      " o o o x o x o o o\n",
      " o o o o x o o o o\n",
      " o o o x o x o o o\n",
      " o o x o o o x o o\n",
      " o x o o o o o x o\n",
      " x o o o o o o o x\n",
      "\n",
      "\n",
      "N = 10\n",
      "\n",
      "\n",
      " x o o o o o o o o x\n",
      " o x o o o o o o x o\n",
      " o o x o o o o x o o\n",
      " o o o x o o x o o o\n",
      " o o o o x x o o o o\n",
      " o o o o x x o o o o\n",
      " o o o x o o x o o o\n",
      " o o x o o o o x o o\n",
      " o x o o o o o o x o\n",
      " x o o o o o o o o x\n"
     ]
    }
   ],
   "source": [
    "# Code for 3.2\n",
    "\n",
    "# Process:\n",
    "# you need two parameters to create the diagonal pattern\n",
    "# one line is only when j = i\n",
    "# the other line needs to reverse this using i \n",
    "    # subtract 1 from N to set the values to the grid (starts at 0 not 1)\n",
    "    # by subtracting (N-1) from i you get the position of j - however its it is negative\n",
    "    # to correct this mutiple the entire equation by -1\n",
    "# see below\n",
    "\n",
    "N = 9\n",
    "\n",
    "print('N = 9')\n",
    "print(\"\\n\")\n",
    "\n",
    "pattern = [[' o' for x in range(N)] for y in range(N)]\n",
    "\n",
    "for j in range(N):\n",
    "    for i  in range(N):\n",
    "        if j == i or j == -(i - (N - 1)):\n",
    "            pattern[j][i] = ' x'\n",
    "\n",
    "for row in pattern:\n",
    "    print(''.join(row))\n",
    "    \n",
    "print(\"\\n\")\n",
    "    \n",
    "N = 10\n",
    "\n",
    "print('N = 10')\n",
    "print(\"\\n\")\n",
    "\n",
    "pattern = [[' o' for x in range(N)] for y in range(N)]\n",
    "\n",
    "for j in range(N):\n",
    "    for i  in range(N):\n",
    "        if j == i or j == -(i - (N - 1)):\n",
    "            pattern[j][i] = ' x'\n",
    "\n",
    "for row in pattern:\n",
    "    print(''.join(row))"
   ]
  },
  {
   "cell_type": "markdown",
   "metadata": {},
   "source": [
    "#### 3.3)\n",
    "\n",
    "```\n",
    "N = 10\n",
    "\n",
    " o x o x o x o x o x\n",
    " x o x o x o x o x o\n",
    " o x o x o x o x o x\n",
    " x o x o x o x o x o\n",
    " o x o x o x o x o x\n",
    " x o x o x o x o x o\n",
    " o x o x o x o x o x\n",
    " x o x o x o x o x o\n",
    " o x o x o x o x o x\n",
    " x o x o x o x o x o\n",
    "\n",
    "```"
   ]
  },
  {
   "cell_type": "code",
   "execution_count": 182,
   "metadata": {},
   "outputs": [
    {
     "name": "stdout",
     "output_type": "stream",
     "text": [
      "N = 10\n",
      "\n",
      "\n",
      " o x o x o x o x o x\n",
      " x o x o x o x o x o\n",
      " o x o x o x o x o x\n",
      " x o x o x o x o x o\n",
      " o x o x o x o x o x\n",
      " x o x o x o x o x o\n",
      " o x o x o x o x o x\n",
      " x o x o x o x o x o\n",
      " o x o x o x o x o x\n",
      " x o x o x o x o x o\n"
     ]
    }
   ],
   "source": [
    "# Code for 3.3\n",
    "\n",
    "# Process\n",
    "# for this you need to define two parameters, each with two components\n",
    "# first define all i or j with an x as odd using modulo \n",
    "    # this creates a grid where, when j and i are both even, theres an 'o'\n",
    "# next, define all i or j with an x as even using modulo\n",
    "    # this creates a grid where, when j and i are both odd, theres an 'o'\n",
    "# by combining these two parameters with an 'and' there will only be an 'x' \n",
    "    # when both parameters are True, therefore you get a checkerboard effect\n",
    "\n",
    "N = 10\n",
    "\n",
    "print('N = 10')\n",
    "print(\"\\n\")\n",
    "\n",
    "pattern = [[' o' for x in range(N)] for y in range(N)]\n",
    "\n",
    "for j in range(N):\n",
    "    for i  in range(N):\n",
    "        if (j%2 != 0 or i%2 != 0) and (j%2 == 0 or i%2 == 0):\n",
    "            pattern[j][i] = ' x'\n",
    "\n",
    "for row in pattern:\n",
    "    print(''.join(row))"
   ]
  },
  {
   "cell_type": "markdown",
   "metadata": {},
   "source": [
    "#### 3.4)\n",
    "\n",
    "```\n",
    "N = 9\n",
    " x x x x x x x x x\n",
    " x x x x o x x x x\n",
    " x x x o o o x x x\n",
    " x x o o o o o x x\n",
    " x o o o o o o o x\n",
    " x x o o o o o x x\n",
    " x x x o o o x x x\n",
    " x x x x o x x x x\n",
    " x x x x x x x x x\n",
    "\n",
    "\n",
    "N = 10\n",
    "\n",
    " x x x x x x x x x x\n",
    " x x x x o o x x x x\n",
    " x x x o o o o x x x\n",
    " x x o o o o o o x x\n",
    " x o o o o o o o o x\n",
    " x o o o o o o o o x\n",
    " x x o o o o o o x x\n",
    " x x x o o o o x x x\n",
    " x x x x o o x x x x\n",
    " x x x x x x x x x x\n",
    "```"
   ]
  },
  {
   "cell_type": "code",
   "execution_count": 184,
   "metadata": {},
   "outputs": [
    {
     "name": "stdout",
     "output_type": "stream",
     "text": [
      "N = 9\n",
      "\n",
      "\n",
      " x x x x x x x x x\n",
      " x x x x o x x x x\n",
      " x x x o o o x x x\n",
      " x x o o o o o x x\n",
      " x o o o o o o o x\n",
      " x x o o o o o x x\n",
      " x x x o o o x x x\n",
      " x x x x o x x x x\n",
      " x x x x x x x x x\n",
      "\n",
      "\n",
      "N = 10\n",
      "\n",
      "\n",
      " x x x x x x x x x x\n",
      " x x x x o o x x x x\n",
      " x x x o o o o x x x\n",
      " x x o o o o o o x x\n",
      " x o o o o o o o o x\n",
      " x o o o o o o o o x\n",
      " x x o o o o o o x x\n",
      " x x x o o o o x x x\n",
      " x x x x o o x x x x\n",
      " x x x x x x x x x x\n",
      "\n",
      "\n",
      "N = 5\n",
      "\n",
      "\n",
      " x x x x x\n",
      " x x o x x\n",
      " x o o o x\n",
      " x x o x x\n",
      " x x x x x\n",
      "\n",
      "\n",
      "N = 20\n",
      "\n",
      "\n",
      " x x x x x x x x x x x x x x x x x x x x\n",
      " x x x x x x x x x o o x x x x x x x x x\n",
      " x x x x x x x x o o o o x x x x x x x x\n",
      " x x x x x x x o o o o o o x x x x x x x\n",
      " x x x x x x o o o o o o o o x x x x x x\n",
      " x x x x x o o o o o o o o o o x x x x x\n",
      " x x x x o o o o o o o o o o o o x x x x\n",
      " x x x o o o o o o o o o o o o o o x x x\n",
      " x x o o o o o o o o o o o o o o o o x x\n",
      " x o o o o o o o o o o o o o o o o o o x\n",
      " x o o o o o o o o o o o o o o o o o o x\n",
      " x x o o o o o o o o o o o o o o o o x x\n",
      " x x x o o o o o o o o o o o o o o x x x\n",
      " x x x x o o o o o o o o o o o o x x x x\n",
      " x x x x x o o o o o o o o o o x x x x x\n",
      " x x x x x x o o o o o o o o x x x x x x\n",
      " x x x x x x x o o o o o o x x x x x x x\n",
      " x x x x x x x x o o o o x x x x x x x x\n",
      " x x x x x x x x x o o x x x x x x x x x\n",
      " x x x x x x x x x x x x x x x x x x x x\n"
     ]
    }
   ],
   "source": [
    "# Code for 3.4 \n",
    "\n",
    "\n",
    "# Process:\n",
    "# to create the diamond shape you need four parameters, one for each 'triangle' in each corner\n",
    "# the first and second parameters are defined by j + i which follows a pattern:\n",
    "    # from row/column 0 to N/2, j + i is less than N/2\n",
    "    # from row/column N/2 to N, j + i is more than N/2 but less than/equal to (N-1)*3/2\n",
    "    # from row/column (N-1)*3/2 to 2N, j + 9 is greater than (N-1)*3/2\n",
    "        # Note - the (N-1) shifts the range to fit the grid where 0 is the first row/column\n",
    "    # thus the first paramter must be (j+i < N/2) \n",
    "    # and the second paramter must be (j+i >= (N-1)*3/2)\n",
    "        # this makes sure that X's are only printed in those domains \n",
    "# the third and fourth paramters are defines by subtraction, follwing the same pattern:\n",
    "    # the absolute difference between i and j always results in (N-2)/2\n",
    "    # for the bottom left column to remain positive you must subtract i from j\n",
    "    # for the top right column to remain positive you must subtract j from i\n",
    "        # note - creating a negative number will not help with this plot, the grid is positive\n",
    "    # thus the third parameter must be (j-i > (N-2)/2)\n",
    "    # and the fourth parameter must be (i-j > (N-2)/2)\n",
    "# see below\n",
    "\n",
    "\n",
    "N = 9\n",
    "\n",
    "print('N = 9')\n",
    "print(\"\\n\")\n",
    "\n",
    "pattern = [[' o' for x in range(N)] for y in range(N)]\n",
    "\n",
    "for j in range(N):\n",
    "    for i  in range(N):\n",
    "        if (j+i < N/2) or (j+i >= (N-1)*3/2) or (j-i > (N-2)/2) or (i-j > (N-2)/2):\n",
    "            pattern[j][i] = ' x'\n",
    "\n",
    "for row in pattern:\n",
    "    print(''.join(row))\n",
    "    \n",
    "print(\"\\n\")     \n",
    "\n",
    "N = 10\n",
    "\n",
    "print('N = 10')\n",
    "print(\"\\n\")\n",
    "\n",
    "pattern = [[' o' for x in range(N)] for y in range(N)]\n",
    "\n",
    "for j in range(N):\n",
    "    for i  in range(N):\n",
    "        if (j+i < N/2) or (j+i >= (N-1)*3/2) or (j-i > (N-2)/2) or (i-j > (N-2)/2):\n",
    "            pattern[j][i] = ' x'\n",
    "\n",
    "for row in pattern:\n",
    "    print(''.join(row))\n",
    "\n",
    "print(\"\\n\")\n",
    "\n",
    "# I added N = 5 and N = 20 to prove it works for 'all' N\n",
    "# originally my answer only worked for N = 9 and N = 10\n",
    "\n",
    "N = 5\n",
    "\n",
    "print('N = 5')\n",
    "print(\"\\n\")\n",
    "\n",
    "pattern = [[' o' for x in range(N)] for y in range(N)]\n",
    "\n",
    "for j in range(N):\n",
    "    for i  in range(N):\n",
    "        if (j+i < N/2) or (j+i >= (N-1)*3/2) or (j-i > (N-2)/2) or (i-j > (N-2)/2):\n",
    "            pattern[j][i] = ' x'\n",
    "\n",
    "for row in pattern:\n",
    "    print(''.join(row))\n",
    "    \n",
    "print(\"\\n\")\n",
    "    \n",
    "N = 20\n",
    "\n",
    "print('N = 20')\n",
    "print(\"\\n\")\n",
    "\n",
    "pattern = [[' o' for x in range(N)] for y in range(N)]\n",
    "\n",
    "for j in range(N):\n",
    "    for i  in range(N):\n",
    "        if (j+i < N/2) or (j+i >= (N-1)*3/2) or (j-i > (N-2)/2) or (i-j > (N-2)/2):\n",
    "            pattern[j][i] = ' x'\n",
    "\n",
    "for row in pattern:\n",
    "    print(''.join(row))\n",
    "\n",
    "    \n"
   ]
  },
  {
   "cell_type": "code",
   "execution_count": null,
   "metadata": {},
   "outputs": [],
   "source": []
  }
 ],
 "metadata": {
  "kernelspec": {
   "display_name": "Python 3",
   "language": "python",
   "name": "python3"
  },
  "language_info": {
   "codemirror_mode": {
    "name": "ipython",
    "version": 3
   },
   "file_extension": ".py",
   "mimetype": "text/x-python",
   "name": "python",
   "nbconvert_exporter": "python",
   "pygments_lexer": "ipython3",
   "version": "3.6.6"
  }
 },
 "nbformat": 4,
 "nbformat_minor": 2
}

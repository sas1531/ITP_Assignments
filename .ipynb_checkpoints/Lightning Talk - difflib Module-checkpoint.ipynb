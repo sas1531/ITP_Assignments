{
 "cells": [
  {
   "cell_type": "markdown",
   "metadata": {},
   "source": [
    "### <font color='pink'>Shaleigh Smith</font>"
   ]
  },
  {
   "cell_type": "markdown",
   "metadata": {},
   "source": [
    "---"
   ]
  },
  {
   "cell_type": "markdown",
   "metadata": {},
   "source": [
    "# <font color='salmon'>difflib Module</font>"
   ]
  },
  {
   "cell_type": "markdown",
   "metadata": {},
   "source": [
    "---"
   ]
  },
  {
   "cell_type": "markdown",
   "metadata": {},
   "source": [
    "# <font color='scarlet'>What is the difflib Module used for?</font>  "
   ]
  },
  {
   "cell_type": "markdown",
   "metadata": {},
   "source": [
    "---"
   ]
  },
  {
   "cell_type": "markdown",
   "metadata": {},
   "source": [
    "\n",
    "# <font color='black'>Comparing Sequences: </font>\n",
    "\n",
    "### <font color='indigo'>difflib.Differ( )</font> \n",
    "\n",
    "### <font color='purple'>difflib.unified_diff( ) & difflib.context_diff</font> \n",
    "\n",
    "###  <font color='navy'>difflib.SequenceMatcher( )</font> \n",
    "\n",
    "###  <font color='green'>difflib.get_close_matches( )</font> \n",
    "\n",
    "### <font color='teal'>difflib.ndiff( ) & difflib.restore( )</font> \n",
    "\n",
    "###  <font color='turquoise'>difflib.HtmlDiff( )</font> "
   ]
  },
  {
   "cell_type": "markdown",
   "metadata": {},
   "source": [
    "---"
   ]
  },
  {
   "cell_type": "markdown",
   "metadata": {},
   "source": [
    "---"
   ]
  },
  {
   "cell_type": "code",
   "execution_count": null,
   "metadata": {},
   "outputs": [],
   "source": [
    "import difflib"
   ]
  },
  {
   "cell_type": "markdown",
   "metadata": {},
   "source": [
    "---"
   ]
  },
  {
   "cell_type": "markdown",
   "metadata": {},
   "source": [
    "# <font color='indigo'>difflib.Differ( )</font>\n",
    "\n",
    "### Compares sequences of text lines\n",
    "\n",
    "### Displays reocognizable deltas (differences)\n",
    "\n",
    "### Shows specific differences between individual lines"
   ]
  },
  {
   "cell_type": "markdown",
   "metadata": {},
   "source": [
    "---"
   ]
  },
  {
   "cell_type": "markdown",
   "metadata": {},
   "source": [
    "### <font color='indigo'>Deltas are shown using symbols at the beginning of the line: </font>\n",
    "\n",
    "#### - the line was in the 1st sequence but not the 2nd\n",
    "    \n",
    "#### + the line was in the 2nd sequence but not the 1st\n",
    "    \n",
    "#### ? displays specific differences and their location\n",
    "    \n",
    "####  __ nothing has changed\n",
    "\n"
   ]
  },
  {
   "cell_type": "markdown",
   "metadata": {},
   "source": [
    "---"
   ]
  },
  {
   "cell_type": "markdown",
   "metadata": {},
   "source": [
    "# <font color='indigo'>difflib.Differ.compare(a,b)</font>\n",
    "\n"
   ]
  },
  {
   "cell_type": "markdown",
   "metadata": {},
   "source": [
    "#### .splitlines( ) returns a list of the lines as strings "
   ]
  },
  {
   "cell_type": "markdown",
   "metadata": {},
   "source": [
    "---"
   ]
  },
  {
   "cell_type": "code",
   "execution_count": null,
   "metadata": {},
   "outputs": [],
   "source": [
    "poem1 = \"\"\"Sometimes coding is tough.\n",
    "Sometimes coding is rough.\n",
    "But other times coding is fun.\n",
    "Although I would rather be coding in the sun.\"\"\"\n",
    "\n",
    "poem1_lines = poem1.splitlines()\n",
    "\n",
    "poem2 = \"\"\"Sometimes coding is tough.\n",
    "Python makes me huff and puff,\n",
    "And other times, coding is fun! :)\n",
    "Although I would rather be coding in the sun.\"\"\"\n",
    "\n",
    "poem2_lines = poem2.splitlines()\n"
   ]
  },
  {
   "cell_type": "code",
   "execution_count": null,
   "metadata": {},
   "outputs": [],
   "source": [
    "\n",
    "d = difflib.Differ()\n",
    "\n",
    "poem_difference = d.compare(poem1_lines, poem2_lines)\n",
    "print('\\n'.join(poem_difference))\n"
   ]
  },
  {
   "cell_type": "markdown",
   "metadata": {},
   "source": [
    "---\n"
   ]
  },
  {
   "cell_type": "code",
   "execution_count": null,
   "metadata": {},
   "outputs": [],
   "source": [
    "dna1 = \"\"\"AGAGCCGTCGGGTCAAAGTCAGTCAAGTTTGG\"\"\"\n",
    "\n",
    "dna2 = \"\"\"AGAGCCGTCGGGTCAAAAGTCAGTCAAGTTGG\"\"\"\n",
    "\n",
    "d = difflib.Differ()\n",
    "\n",
    "dna_difference = d.compare(dna1, dna2)\n",
    "print('\\n'.join(dna_difference))"
   ]
  },
  {
   "cell_type": "markdown",
   "metadata": {},
   "source": [
    "---\n"
   ]
  },
  {
   "cell_type": "markdown",
   "metadata": {},
   "source": [
    "# <font color='purple'>difflib.unified_diff( )</font> \n",
    "\n",
    "# <font color='purple'>difflib.context_diff( )</font>\n",
    "\n",
    "### Similar to difflib.Differ\n",
    "\n",
    "### Less Information"
   ]
  },
  {
   "cell_type": "markdown",
   "metadata": {},
   "source": [
    "---"
   ]
  },
  {
   "cell_type": "markdown",
   "metadata": {},
   "source": [
    "## <font color='purple'>difflib.unified_diff(a,b)</font> \n"
   ]
  },
  {
   "cell_type": "code",
   "execution_count": null,
   "metadata": {},
   "outputs": [],
   "source": [
    "poem1 = \"\"\"Sometimes coding is tough.\n",
    "Sometimes coding is rough.\n",
    "But other times coding is fun.\n",
    "Although I would rather be coding in the sun.\"\"\"\n",
    "\n",
    "poem1_lines = poem1.splitlines()\n",
    "\n",
    "poem2 = \"\"\"Sometimes coding is tough.\n",
    "Python makes me huff and puff,\n",
    "And other times, coding is fun! :)\n",
    "Although I would rather be coding in the sun.\"\"\"\n",
    "\n",
    "poem2_lines = poem2.splitlines()"
   ]
  },
  {
   "cell_type": "code",
   "execution_count": null,
   "metadata": {},
   "outputs": [],
   "source": [
    "poem_difference2 = difflib.unified_diff(poem1_lines, poem2_lines)\n",
    "print('\\n'.join(poem_difference2))"
   ]
  },
  {
   "cell_type": "markdown",
   "metadata": {},
   "source": [
    "---\n"
   ]
  },
  {
   "cell_type": "markdown",
   "metadata": {},
   "source": [
    "## <font color='purple'>difflib.context_diff(a,b)</font> "
   ]
  },
  {
   "cell_type": "code",
   "execution_count": null,
   "metadata": {},
   "outputs": [],
   "source": [
    "poem1 = \"\"\"Sometimes coding is tough.\n",
    "Sometimes coding is rough.\n",
    "But other times coding is fun.\n",
    "Although I would rather be coding in the sun.\"\"\"\n",
    "\n",
    "poem1_lines = poem1.splitlines()\n",
    "\n",
    "poem2 = \"\"\"Sometimes coding is tough.\n",
    "Python makes me huff and puff,\n",
    "And other times, coding is fun! :)\n",
    "Although I would rather be coding in the sun.\"\"\"\n",
    "\n",
    "poem2_lines = poem2.splitlines()"
   ]
  },
  {
   "cell_type": "code",
   "execution_count": null,
   "metadata": {},
   "outputs": [],
   "source": [
    "poem_difference2 = difflib.context_diff(poem1_lines, poem2_lines)\n",
    "print('\\n'.join(poem_difference2))"
   ]
  },
  {
   "cell_type": "markdown",
   "metadata": {},
   "source": [
    "---"
   ]
  },
  {
   "cell_type": "markdown",
   "metadata": {},
   "source": [
    "---\n"
   ]
  },
  {
   "cell_type": "markdown",
   "metadata": {},
   "source": [
    "# <font color='navy'>difflib.SequenceMatcher( )</font>\n",
    "\n",
    "\n",
    "### Compares pairs of sequences of any type\n",
    "\n",
    "### MUST be hashable "
   ]
  },
  {
   "cell_type": "markdown",
   "metadata": {},
   "source": [
    "---"
   ]
  },
  {
   "cell_type": "markdown",
   "metadata": {},
   "source": [
    "## <font color='navy'> An object is _hashable_ if it has a hash value which never changes during its lifetime</font>\n",
    "\n"
   ]
  },
  {
   "cell_type": "markdown",
   "metadata": {},
   "source": [
    "---\n"
   ]
  },
  {
   "cell_type": "markdown",
   "metadata": {},
   "source": [
    "### Hashable: \n",
    "#### Objects that are immutable\n",
    "    - Strings\n",
    "    - Integers\n",
    "    - Booleans\n",
    "    - Floats\n",
    "    - Tupples\n",
    "    \n",
    "    \n",
    "\n",
    "### Not Hashable:\n",
    "#### Objects that are mutable\n",
    "    - Lists\n",
    "    - Sets\n",
    "    - Dictionaries\n",
    "        "
   ]
  },
  {
   "cell_type": "code",
   "execution_count": null,
   "metadata": {},
   "outputs": [],
   "source": [
    "hash(560)"
   ]
  },
  {
   "cell_type": "code",
   "execution_count": null,
   "metadata": {},
   "outputs": [],
   "source": [
    "hash('Hello World')"
   ]
  },
  {
   "cell_type": "code",
   "execution_count": null,
   "metadata": {},
   "outputs": [],
   "source": [
    "w = [1, 2, 3, 4]\n",
    "hash(w)"
   ]
  },
  {
   "cell_type": "code",
   "execution_count": null,
   "metadata": {},
   "outputs": [],
   "source": [
    "x = (1, 2, 3, 4)\n",
    "hash(x)"
   ]
  },
  {
   "cell_type": "code",
   "execution_count": null,
   "metadata": {},
   "outputs": [],
   "source": [
    "y = set(['hi', 'hello', 'bonjour'])\n",
    "hash(y)"
   ]
  },
  {
   "cell_type": "code",
   "execution_count": null,
   "metadata": {},
   "outputs": [],
   "source": [
    "z = {'a': 1, 'b': 2}\n",
    "hash(z)"
   ]
  },
  {
   "cell_type": "markdown",
   "metadata": {},
   "source": [
    "---\n"
   ]
  },
  {
   "cell_type": "markdown",
   "metadata": {},
   "source": [
    "## <font color='navy'> Why is this important? </font>\n",
    "### We can use any hashable (immutable) object with SequenceMatcher"
   ]
  },
  {
   "cell_type": "markdown",
   "metadata": {},
   "source": [
    "---\n"
   ]
  },
  {
   "cell_type": "markdown",
   "metadata": {},
   "source": [
    "## <font color='navy'>difflib.SequenceMatcher(isjunk=None, a='', b='', autojunk=True )</font>\n"
   ]
  },
  {
   "cell_type": "markdown",
   "metadata": {},
   "source": [
    "###  Default _isjunk_ argument: no elements are ignored \n",
    "\n",
    "### Default _autojunk_ argument: this automatically treats certain items in a sequence as junk\n",
    "\n",
    "- If an item has duplicates that make up more than 1% of a sequence that's at least 200 items long it's marked 'popular' and is considered junk.\n",
    "\n",
    "### .ratio() value over 0.6 means the sequences are close matches"
   ]
  },
  {
   "cell_type": "markdown",
   "metadata": {},
   "source": [
    "---"
   ]
  },
  {
   "cell_type": "code",
   "execution_count": null,
   "metadata": {},
   "outputs": [],
   "source": [
    "a = 'Hey how are you doing today?'\n",
    "b = 'Good, how are you doing today?'\n",
    "\n",
    "match = difflib.SequenceMatcher(None, a, b)\n",
    "c = match.ratio()*100\n",
    "print(c)"
   ]
  },
  {
   "cell_type": "markdown",
   "metadata": {},
   "source": [
    "---"
   ]
  },
  {
   "cell_type": "code",
   "execution_count": null,
   "metadata": {},
   "outputs": [],
   "source": [
    "a = 'Hey how are you doing today?'\n",
    "b = 'Good,                     how are you doing today?'\n",
    "\n",
    "match = difflib.SequenceMatcher(None, a, b)\n",
    "c = match.ratio()*100\n",
    "print(c)"
   ]
  },
  {
   "cell_type": "markdown",
   "metadata": {},
   "source": [
    "---"
   ]
  },
  {
   "cell_type": "code",
   "execution_count": null,
   "metadata": {},
   "outputs": [],
   "source": [
    "d = 'Hey how are you doing today?'\n",
    "e = 'Hey how are you doing today?'\n",
    "\n",
    "match1 = difflib.SequenceMatcher(None, d, e)\n",
    "f = match1.ratio()*100\n",
    "print(f)"
   ]
  },
  {
   "cell_type": "markdown",
   "metadata": {},
   "source": [
    "---"
   ]
  },
  {
   "cell_type": "code",
   "execution_count": null,
   "metadata": {},
   "outputs": [],
   "source": [
    "g = 'Hey how are you doing today?'\n",
    "h = 'Fine, the weather is nice!'\n",
    "\n",
    "match3 = difflib.SequenceMatcher(None, g, h)\n",
    "i = match3.ratio()*100\n",
    "print(i)"
   ]
  },
  {
   "cell_type": "markdown",
   "metadata": {},
   "source": [
    "---"
   ]
  },
  {
   "cell_type": "code",
   "execution_count": null,
   "metadata": {},
   "outputs": [],
   "source": [
    "list1 = [1, 2, 3]\n",
    "list2 = [4, 5, 6, 7, 9]\n",
    "\n",
    "match4 = difflib.SequenceMatcher(None, list1, list2)\n",
    "lists = match4.ratio()*100\n",
    "print(lists)"
   ]
  },
  {
   "cell_type": "code",
   "execution_count": null,
   "metadata": {
    "scrolled": true
   },
   "outputs": [],
   "source": [
    "list3 = [1, 2, 3]\n",
    "list4 = [2, 3, 6, 7, 9]\n",
    "\n",
    "match4 = difflib.SequenceMatcher(None, list3, list4)\n",
    "lists1 = match4.ratio()*100\n",
    "print(lists1)"
   ]
  },
  {
   "cell_type": "markdown",
   "metadata": {},
   "source": [
    "---"
   ]
  },
  {
   "cell_type": "code",
   "execution_count": null,
   "metadata": {},
   "outputs": [],
   "source": [
    "dna_1 = 'AGAGCCGTCGGGTCAAAGTCAGTCAAGTTTGG'\n",
    "\n",
    "dna_2 = 'AGAGCCGTCGGGTCAAAAGTCAGTCAAGTTGG'\n",
    "\n",
    "dna_match = difflib.SequenceMatcher(None, dna_1, dna_2)\n",
    "dna_seq = dna_match.ratio()*100\n",
    "print(dna_seq)\n"
   ]
  },
  {
   "cell_type": "markdown",
   "metadata": {},
   "source": [
    "---"
   ]
  },
  {
   "cell_type": "markdown",
   "metadata": {},
   "source": [
    "# <font color='green'>difflib.get_close_matches( )</font> \n",
    "\n",
    "###  Compares words using a 'similarity score'\n",
    "\n",
    "### Returns a list of the matches above that score"
   ]
  },
  {
   "cell_type": "markdown",
   "metadata": {},
   "source": [
    "---"
   ]
  },
  {
   "cell_type": "markdown",
   "metadata": {},
   "source": [
    "## <font color='green'>difflib.get_close_matches(word, possibilities, n=3, cuttoff=.06)</font> "
   ]
  },
  {
   "cell_type": "code",
   "execution_count": null,
   "metadata": {},
   "outputs": [],
   "source": [
    "difflib.get_close_matches('Hello', ['Hi', 'Helo', 'Heyo', 'Hell', 'Bonjour', 'Bye'])"
   ]
  },
  {
   "cell_type": "markdown",
   "metadata": {},
   "source": [
    "---"
   ]
  },
  {
   "cell_type": "code",
   "execution_count": null,
   "metadata": {},
   "outputs": [],
   "source": [
    "difflib.get_close_matches('Hello', ['Hi', 'Hey', 'Heyo', 'Hell', 'Bonjour', 'Bye'], n = 1)"
   ]
  },
  {
   "cell_type": "markdown",
   "metadata": {},
   "source": [
    "---"
   ]
  },
  {
   "cell_type": "code",
   "execution_count": null,
   "metadata": {},
   "outputs": [],
   "source": [
    "difflib.get_close_matches('Hello', ['Hi', 'Hey', 'Heyo', 'Hell', 'Bonjour', 'Bye'], cutoff=0.4)"
   ]
  },
  {
   "cell_type": "markdown",
   "metadata": {},
   "source": [
    "---"
   ]
  },
  {
   "cell_type": "markdown",
   "metadata": {},
   "source": [
    "# <font color='teal'>difflib.ndiff( )</font> \n",
    "\n",
    "\n",
    "### Compares lists of strings\n",
    "\n",
    "### Returns a delta (like differ)\n",
    "\n",
    "\n",
    "# <font color='teal'>difflib.restore( )</font> \n",
    "\n",
    "### Returns one of the sequences that generated a delta\n",
    "\n",
    "### Used after difflib.ndiff"
   ]
  },
  {
   "cell_type": "markdown",
   "metadata": {},
   "source": [
    "## <font color='teal'>difflib.ndiff(a, b)</font> \n",
    "\n"
   ]
  },
  {
   "cell_type": "code",
   "execution_count": null,
   "metadata": {},
   "outputs": [],
   "source": [
    "diff = difflib.ndiff('hello\\nmy\\nname\\nis\\nShaleigh\\n'.splitlines(keepends=True), #line breaks included\n",
    "                    'hey\\nmi\\nnae\\nis\\nShaliehg\\n'.splitlines(keepends=True))\n",
    "print(''.join(diff), end=\"\")"
   ]
  },
  {
   "cell_type": "markdown",
   "metadata": {},
   "source": [
    "---"
   ]
  },
  {
   "cell_type": "markdown",
   "metadata": {},
   "source": [
    "## <font color='teal'>difflib.restore(delta, which)</font> \n",
    "\n"
   ]
  },
  {
   "cell_type": "code",
   "execution_count": null,
   "metadata": {},
   "outputs": [],
   "source": [
    "diff = difflib.ndiff('hello\\nmy\\nname\\nis\\nShaleigh\\n'.splitlines(keepends=True),\n",
    "             'hey\\nmi\\nnae\\nis\\nShaliehg\\n'.splitlines(keepends=True))\n",
    "\n",
    "diff = list(diff)\n",
    "print(''.join(difflib.restore(diff, 1)), end=\"\")"
   ]
  },
  {
   "cell_type": "markdown",
   "metadata": {},
   "source": [
    "---"
   ]
  },
  {
   "cell_type": "markdown",
   "metadata": {},
   "source": [
    "#  <font color='turquoise'>difflib.HtmlDiff( )</font> \n",
    "\n",
    "\n",
    "### Creates an HTML table or HTML file with table\n",
    "\n",
    "### Compares text line by line, side by side"
   ]
  },
  {
   "cell_type": "markdown",
   "metadata": {},
   "source": [
    "---\n"
   ]
  },
  {
   "cell_type": "code",
   "execution_count": null,
   "metadata": {},
   "outputs": [],
   "source": [
    "?difflib"
   ]
  },
  {
   "cell_type": "markdown",
   "metadata": {},
   "source": [
    "### Sources\n",
    "\n",
    "https://pymotw.com/3/difflib/index.html\n",
    "\n",
    "https://docs.python.org/3.6/library/difflib.html\n",
    "\n",
    "https://docs.python.org/3.6/glossary.html#term-hashable\n",
    "\n",
    "https://docs.python.org/2.4/lib/sequence-matcher.html"
   ]
  }
 ],
 "metadata": {
  "kernelspec": {
   "display_name": "Python 3",
   "language": "python",
   "name": "python3"
  },
  "language_info": {
   "codemirror_mode": {
    "name": "ipython",
    "version": 3
   },
   "file_extension": ".py",
   "mimetype": "text/x-python",
   "name": "python",
   "nbconvert_exporter": "python",
   "pygments_lexer": "ipython3",
   "version": "3.6.6"
  }
 },
 "nbformat": 4,
 "nbformat_minor": 2
}

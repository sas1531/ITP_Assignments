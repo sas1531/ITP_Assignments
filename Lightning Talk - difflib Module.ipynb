{
 "cells": [
  {
   "cell_type": "markdown",
   "metadata": {},
   "source": [
    "### <font color='pink'>Shaleigh Smith</font>"
   ]
  },
  {
   "cell_type": "markdown",
   "metadata": {},
   "source": [
    "---"
   ]
  },
  {
   "cell_type": "markdown",
   "metadata": {},
   "source": [
    "# <font color='salmon'>difflib Module</font>"
   ]
  },
  {
   "cell_type": "markdown",
   "metadata": {},
   "source": [
    "---"
   ]
  },
  {
   "cell_type": "markdown",
   "metadata": {},
   "source": [
    "# <font color='scarlet'>What is the difflib Module used for?</font>  "
   ]
  },
  {
   "cell_type": "markdown",
   "metadata": {},
   "source": [
    "---"
   ]
  },
  {
   "cell_type": "markdown",
   "metadata": {},
   "source": [
    "\n",
    "# <font color='black'>Comparing Sequences: </font>\n",
    "\n",
    "### <font color='indigo'>difflib.Differ( )</font> \n",
    "\n",
    "### <font color='purple'>difflib.unified_diff( ) & difflib.context_diff</font> \n",
    "\n",
    "###  <font color='navy'>difflib.SequenceMatcher( )</font> \n",
    "\n",
    "###  <font color='green'>difflib.get_close_matches( )</font> \n",
    "\n",
    "### <font color='teal'>difflib.ndiff( ) & difflib.restore( )</font> \n",
    "\n",
    "###  <font color='turquoise'>difflib.HtmlDiff( )</font> "
   ]
  },
  {
   "cell_type": "markdown",
   "metadata": {},
   "source": [
    "---"
   ]
  },
  {
   "cell_type": "markdown",
   "metadata": {},
   "source": [
    "---"
   ]
  },
  {
   "cell_type": "code",
   "execution_count": 1,
   "metadata": {},
   "outputs": [],
   "source": [
    "import difflib"
   ]
  },
  {
   "cell_type": "markdown",
   "metadata": {},
   "source": [
    "---"
   ]
  },
  {
   "cell_type": "markdown",
   "metadata": {},
   "source": [
    "# <font color='indigo'>difflib.Differ( )</font>\n",
    "\n",
    "### Compares sequences of text lines\n",
    "\n",
    "### Displays reocognizable deltas (differences)\n",
    "\n",
    "### Shows specific differences between individual lines"
   ]
  },
  {
   "cell_type": "markdown",
   "metadata": {},
   "source": [
    "---"
   ]
  },
  {
   "cell_type": "markdown",
   "metadata": {},
   "source": [
    "### <font color='indigo'>Deltas are shown using symbols at the beginning of the line: </font>\n",
    "\n",
    "#### - the line was in the 1st sequence but not the 2nd\n",
    "    \n",
    "#### + the line was in the 2nd sequence but not the 1st\n",
    "    \n",
    "#### ? displays specific differences and their location\n",
    "    \n",
    "####  __ nothing has changed\n",
    "\n"
   ]
  },
  {
   "cell_type": "markdown",
   "metadata": {},
   "source": [
    "---"
   ]
  },
  {
   "cell_type": "markdown",
   "metadata": {},
   "source": [
    "# <font color='indigo'>difflib.Differ.compare(a,b)</font>\n",
    "\n"
   ]
  },
  {
   "cell_type": "markdown",
   "metadata": {},
   "source": [
    "#### .splitlines( ) returns a list of the lines as strings "
   ]
  },
  {
   "cell_type": "markdown",
   "metadata": {},
   "source": [
    "---"
   ]
  },
  {
   "cell_type": "code",
   "execution_count": 2,
   "metadata": {},
   "outputs": [],
   "source": [
    "poem1 = \"\"\"Sometimes coding is tough.\n",
    "Sometimes coding is rough.\n",
    "But other times coding is fun.\n",
    "Although I would rather be coding in the sun.\"\"\"\n",
    "\n",
    "poem1_lines = poem1.splitlines()\n",
    "\n",
    "poem2 = \"\"\"Sometimes coding is tough.\n",
    "Python makes me huff and puff,\n",
    "And other times, coding is fun! :)\n",
    "Although I would rather be coding in the sun.\"\"\"\n",
    "\n",
    "poem2_lines = poem2.splitlines()\n"
   ]
  },
  {
   "cell_type": "code",
   "execution_count": 3,
   "metadata": {},
   "outputs": [
    {
     "name": "stdout",
     "output_type": "stream",
     "text": [
      "  Sometimes coding is tough.\n",
      "- Sometimes coding is rough.\n",
      "+ Python makes me huff and puff,\n",
      "- But other times coding is fun.\n",
      "? ^^^                          ^\n",
      "\n",
      "+ And other times, coding is fun! :)\n",
      "? ^^^            +              ^^^^\n",
      "\n",
      "  Although I would rather be coding in the sun.\n"
     ]
    }
   ],
   "source": [
    "\n",
    "d = difflib.Differ()\n",
    "\n",
    "poem_difference = d.compare(poem1_lines, poem2_lines)\n",
    "print('\\n'.join(poem_difference))\n"
   ]
  },
  {
   "cell_type": "markdown",
   "metadata": {},
   "source": [
    "---\n"
   ]
  },
  {
   "cell_type": "code",
   "execution_count": 4,
   "metadata": {},
   "outputs": [
    {
     "name": "stdout",
     "output_type": "stream",
     "text": [
      "  A\n",
      "  G\n",
      "  A\n",
      "  G\n",
      "  C\n",
      "  C\n",
      "  G\n",
      "  T\n",
      "  C\n",
      "  G\n",
      "  G\n",
      "  G\n",
      "  T\n",
      "  C\n",
      "  A\n",
      "  A\n",
      "  A\n",
      "+ A\n",
      "  G\n",
      "  T\n",
      "  C\n",
      "  A\n",
      "  G\n",
      "  T\n",
      "  C\n",
      "  A\n",
      "  A\n",
      "  G\n",
      "  T\n",
      "  T\n",
      "- T\n",
      "  G\n",
      "  G\n"
     ]
    }
   ],
   "source": [
    "dna1 = \"\"\"AGAGCCGTCGGGTCAAAGTCAGTCAAGTTTGG\"\"\"\n",
    "\n",
    "dna2 = \"\"\"AGAGCCGTCGGGTCAAAAGTCAGTCAAGTTGG\"\"\"\n",
    "\n",
    "d = difflib.Differ()\n",
    "\n",
    "dna_difference = d.compare(dna1, dna2)\n",
    "print('\\n'.join(dna_difference))"
   ]
  },
  {
   "cell_type": "markdown",
   "metadata": {},
   "source": [
    "---\n"
   ]
  },
  {
   "cell_type": "markdown",
   "metadata": {},
   "source": [
    "# <font color='purple'>difflib.unified_diff( )</font> \n",
    "\n",
    "# <font color='purple'>difflib.context_diff( )</font>\n",
    "\n",
    "### Similar to difflib.Differ\n",
    "\n",
    "### Less Information"
   ]
  },
  {
   "cell_type": "markdown",
   "metadata": {},
   "source": [
    "---"
   ]
  },
  {
   "cell_type": "markdown",
   "metadata": {},
   "source": [
    "## <font color='purple'>difflib.unified_diff(a,b)</font> \n"
   ]
  },
  {
   "cell_type": "code",
   "execution_count": 5,
   "metadata": {},
   "outputs": [],
   "source": [
    "poem1 = \"\"\"Sometimes coding is tough.\n",
    "Sometimes coding is rough.\n",
    "But other times coding is fun.\n",
    "Although I would rather be coding in the sun.\"\"\"\n",
    "\n",
    "poem1_lines = poem1.splitlines()\n",
    "\n",
    "poem2 = \"\"\"Sometimes coding is tough.\n",
    "Python makes me huff and puff,\n",
    "And other times, coding is fun! :)\n",
    "Although I would rather be coding in the sun.\"\"\"\n",
    "\n",
    "poem2_lines = poem2.splitlines()"
   ]
  },
  {
   "cell_type": "code",
   "execution_count": 6,
   "metadata": {},
   "outputs": [
    {
     "name": "stdout",
     "output_type": "stream",
     "text": [
      "--- \n",
      "\n",
      "+++ \n",
      "\n",
      "@@ -1,4 +1,4 @@\n",
      "\n",
      " Sometimes coding is tough.\n",
      "-Sometimes coding is rough.\n",
      "-But other times coding is fun.\n",
      "+Python makes me huff and puff,\n",
      "+And other times, coding is fun! :)\n",
      " Although I would rather be coding in the sun.\n"
     ]
    }
   ],
   "source": [
    "poem_difference2 = difflib.unified_diff(poem1_lines, poem2_lines)\n",
    "print('\\n'.join(poem_difference2))"
   ]
  },
  {
   "cell_type": "markdown",
   "metadata": {},
   "source": [
    "---\n"
   ]
  },
  {
   "cell_type": "markdown",
   "metadata": {},
   "source": [
    "## <font color='purple'>difflib.context_diff(a,b)</font> "
   ]
  },
  {
   "cell_type": "code",
   "execution_count": 7,
   "metadata": {},
   "outputs": [],
   "source": [
    "poem1 = \"\"\"Sometimes coding is tough.\n",
    "Sometimes coding is rough.\n",
    "But other times coding is fun.\n",
    "Although I would rather be coding in the sun.\"\"\"\n",
    "\n",
    "poem1_lines = poem1.splitlines()\n",
    "\n",
    "poem2 = \"\"\"Sometimes coding is tough.\n",
    "Python makes me huff and puff,\n",
    "And other times, coding is fun! :)\n",
    "Although I would rather be coding in the sun.\"\"\"\n",
    "\n",
    "poem2_lines = poem2.splitlines()"
   ]
  },
  {
   "cell_type": "code",
   "execution_count": 8,
   "metadata": {},
   "outputs": [
    {
     "name": "stdout",
     "output_type": "stream",
     "text": [
      "*** \n",
      "\n",
      "--- \n",
      "\n",
      "***************\n",
      "\n",
      "*** 1,4 ****\n",
      "\n",
      "  Sometimes coding is tough.\n",
      "! Sometimes coding is rough.\n",
      "! But other times coding is fun.\n",
      "  Although I would rather be coding in the sun.\n",
      "--- 1,4 ----\n",
      "\n",
      "  Sometimes coding is tough.\n",
      "! Python makes me huff and puff,\n",
      "! And other times, coding is fun! :)\n",
      "  Although I would rather be coding in the sun.\n"
     ]
    }
   ],
   "source": [
    "poem_difference2 = difflib.context_diff(poem1_lines, poem2_lines)\n",
    "print('\\n'.join(poem_difference2))"
   ]
  },
  {
   "cell_type": "markdown",
   "metadata": {},
   "source": [
    "---"
   ]
  },
  {
   "cell_type": "markdown",
   "metadata": {},
   "source": [
    "---\n"
   ]
  },
  {
   "cell_type": "markdown",
   "metadata": {},
   "source": [
    "# <font color='navy'>difflib.SequenceMatcher( )</font>\n",
    "\n",
    "\n",
    "### Compares pairs of sequences of any type\n",
    "\n",
    "### MUST be hashable "
   ]
  },
  {
   "cell_type": "markdown",
   "metadata": {},
   "source": [
    "---"
   ]
  },
  {
   "cell_type": "markdown",
   "metadata": {},
   "source": [
    "## <font color='navy'> An object is _hashable_ if it has a hash value which never changes during its lifetime</font>\n",
    "\n"
   ]
  },
  {
   "cell_type": "markdown",
   "metadata": {},
   "source": [
    "---\n"
   ]
  },
  {
   "cell_type": "markdown",
   "metadata": {},
   "source": [
    "### Hashable: \n",
    "#### Objects that are immutable\n",
    "    - Strings\n",
    "    - Integers\n",
    "    - Booleans\n",
    "    - Floats\n",
    "    - Tupples\n",
    "    \n",
    "    \n",
    "\n",
    "### Not Hashable:\n",
    "#### Objects that are mutable\n",
    "    - Lists\n",
    "    - Sets\n",
    "    - Dictionaries\n",
    "        "
   ]
  },
  {
   "cell_type": "code",
   "execution_count": 9,
   "metadata": {},
   "outputs": [
    {
     "data": {
      "text/plain": [
       "1000112322341232423"
      ]
     },
     "execution_count": 9,
     "metadata": {},
     "output_type": "execute_result"
    }
   ],
   "source": [
    "hash(1000112322341232423) # 19 characters long"
   ]
  },
  {
   "cell_type": "code",
   "execution_count": 10,
   "metadata": {},
   "outputs": [
    {
     "data": {
      "text/plain": [
       "777751186557548430"
      ]
     },
     "execution_count": 10,
     "metadata": {},
     "output_type": "execute_result"
    }
   ],
   "source": [
    "hash(10001123223412324234) # 20 characters long"
   ]
  },
  {
   "cell_type": "code",
   "execution_count": 11,
   "metadata": {},
   "outputs": [
    {
     "data": {
      "text/plain": [
       "-6749998673946092768"
      ]
     },
     "execution_count": 11,
     "metadata": {},
     "output_type": "execute_result"
    }
   ],
   "source": [
    "hash('Hello World') #string"
   ]
  },
  {
   "cell_type": "code",
   "execution_count": 12,
   "metadata": {},
   "outputs": [
    {
     "ename": "TypeError",
     "evalue": "unhashable type: 'list'",
     "output_type": "error",
     "traceback": [
      "\u001b[0;31m---------------------------------------------------------------------------\u001b[0m",
      "\u001b[0;31mTypeError\u001b[0m                                 Traceback (most recent call last)",
      "\u001b[0;32m<ipython-input-12-9d11ff85b0c7>\u001b[0m in \u001b[0;36m<module>\u001b[0;34m()\u001b[0m\n\u001b[1;32m      1\u001b[0m \u001b[0mw\u001b[0m \u001b[0;34m=\u001b[0m \u001b[0;34m[\u001b[0m\u001b[0;36m1\u001b[0m\u001b[0;34m,\u001b[0m \u001b[0;36m2\u001b[0m\u001b[0;34m,\u001b[0m \u001b[0;36m3\u001b[0m\u001b[0;34m,\u001b[0m \u001b[0;36m4\u001b[0m\u001b[0;34m]\u001b[0m \u001b[0;31m#list\u001b[0m\u001b[0;34m\u001b[0m\u001b[0m\n\u001b[0;32m----> 2\u001b[0;31m \u001b[0mhash\u001b[0m\u001b[0;34m(\u001b[0m\u001b[0mw\u001b[0m\u001b[0;34m)\u001b[0m\u001b[0;34m\u001b[0m\u001b[0m\n\u001b[0m",
      "\u001b[0;31mTypeError\u001b[0m: unhashable type: 'list'"
     ]
    }
   ],
   "source": [
    "w = [1, 2, 3, 4] #list\n",
    "hash(w)"
   ]
  },
  {
   "cell_type": "code",
   "execution_count": 13,
   "metadata": {},
   "outputs": [
    {
     "data": {
      "text/plain": [
       "485696759010151909"
      ]
     },
     "execution_count": 13,
     "metadata": {},
     "output_type": "execute_result"
    }
   ],
   "source": [
    "x = (1, 2, 3, 4) #tuple\n",
    "hash(x)"
   ]
  },
  {
   "cell_type": "code",
   "execution_count": 14,
   "metadata": {},
   "outputs": [
    {
     "ename": "TypeError",
     "evalue": "unhashable type: 'set'",
     "output_type": "error",
     "traceback": [
      "\u001b[0;31m---------------------------------------------------------------------------\u001b[0m",
      "\u001b[0;31mTypeError\u001b[0m                                 Traceback (most recent call last)",
      "\u001b[0;32m<ipython-input-14-e671601cb277>\u001b[0m in \u001b[0;36m<module>\u001b[0;34m()\u001b[0m\n\u001b[1;32m      1\u001b[0m \u001b[0my\u001b[0m \u001b[0;34m=\u001b[0m \u001b[0mset\u001b[0m\u001b[0;34m(\u001b[0m\u001b[0;34m[\u001b[0m\u001b[0;34m'hi'\u001b[0m\u001b[0;34m,\u001b[0m \u001b[0;34m'hello'\u001b[0m\u001b[0;34m,\u001b[0m \u001b[0;34m'bonjour'\u001b[0m\u001b[0;34m]\u001b[0m\u001b[0;34m)\u001b[0m \u001b[0;31m#set\u001b[0m\u001b[0;34m\u001b[0m\u001b[0m\n\u001b[0;32m----> 2\u001b[0;31m \u001b[0mhash\u001b[0m\u001b[0;34m(\u001b[0m\u001b[0my\u001b[0m\u001b[0;34m)\u001b[0m\u001b[0;34m\u001b[0m\u001b[0m\n\u001b[0m",
      "\u001b[0;31mTypeError\u001b[0m: unhashable type: 'set'"
     ]
    }
   ],
   "source": [
    "y = set(['hi', 'hello', 'bonjour']) #set\n",
    "hash(y)"
   ]
  },
  {
   "cell_type": "code",
   "execution_count": 15,
   "metadata": {},
   "outputs": [
    {
     "ename": "TypeError",
     "evalue": "unhashable type: 'dict'",
     "output_type": "error",
     "traceback": [
      "\u001b[0;31m---------------------------------------------------------------------------\u001b[0m",
      "\u001b[0;31mTypeError\u001b[0m                                 Traceback (most recent call last)",
      "\u001b[0;32m<ipython-input-15-e8b31d859399>\u001b[0m in \u001b[0;36m<module>\u001b[0;34m()\u001b[0m\n\u001b[1;32m      1\u001b[0m \u001b[0mz\u001b[0m \u001b[0;34m=\u001b[0m \u001b[0;34m{\u001b[0m\u001b[0;34m'a'\u001b[0m\u001b[0;34m:\u001b[0m \u001b[0;36m1\u001b[0m\u001b[0;34m,\u001b[0m \u001b[0;34m'b'\u001b[0m\u001b[0;34m:\u001b[0m \u001b[0;36m2\u001b[0m\u001b[0;34m}\u001b[0m \u001b[0;31m#dictionary\u001b[0m\u001b[0;34m\u001b[0m\u001b[0m\n\u001b[0;32m----> 2\u001b[0;31m \u001b[0mhash\u001b[0m\u001b[0;34m(\u001b[0m\u001b[0mz\u001b[0m\u001b[0;34m)\u001b[0m\u001b[0;34m\u001b[0m\u001b[0m\n\u001b[0m",
      "\u001b[0;31mTypeError\u001b[0m: unhashable type: 'dict'"
     ]
    }
   ],
   "source": [
    "z = {'a': 1, 'b': 2} #dictionary\n",
    "hash(z)"
   ]
  },
  {
   "cell_type": "markdown",
   "metadata": {},
   "source": [
    "---\n"
   ]
  },
  {
   "cell_type": "markdown",
   "metadata": {},
   "source": [
    "## <font color='navy'> Why is this important? </font>\n",
    "### We can use any hashable (immutable) object with SequenceMatcher"
   ]
  },
  {
   "cell_type": "markdown",
   "metadata": {},
   "source": [
    "---\n"
   ]
  },
  {
   "cell_type": "markdown",
   "metadata": {},
   "source": [
    "## <font color='navy'>difflib.SequenceMatcher(isjunk=None, a='', b='', autojunk=True )</font>\n"
   ]
  },
  {
   "cell_type": "markdown",
   "metadata": {},
   "source": [
    "###  Default _isjunk_ argument: no elements are ignored \n",
    "\n",
    "### Default _autojunk_ argument: this automatically treats certain items in a sequence as junk\n",
    "\n",
    "- If an item has duplicates that make up more than 1% of a sequence that's at least 200 items long it's marked 'popular' and is considered junk.\n",
    "\n",
    "### .ratio() value (score) over 0.6 (or 60%) means the sequences are close matches"
   ]
  },
  {
   "cell_type": "markdown",
   "metadata": {},
   "source": [
    "---"
   ]
  },
  {
   "cell_type": "code",
   "execution_count": 16,
   "metadata": {},
   "outputs": [
    {
     "name": "stdout",
     "output_type": "stream",
     "text": [
      "86.20689655172413\n"
     ]
    }
   ],
   "source": [
    "a = 'Hey how are you doing today?'\n",
    "b = 'Good, how are you doing today?'\n",
    "\n",
    "match = difflib.SequenceMatcher(None, a, b)\n",
    "c = match.ratio()*100\n",
    "print(c)"
   ]
  },
  {
   "cell_type": "markdown",
   "metadata": {},
   "source": [
    "---"
   ]
  },
  {
   "cell_type": "code",
   "execution_count": 17,
   "metadata": {},
   "outputs": [
    {
     "name": "stdout",
     "output_type": "stream",
     "text": [
      "64.1025641025641\n"
     ]
    }
   ],
   "source": [
    "a = 'Hey how are you doing today?'\n",
    "b = 'Good,                     how are you doing today?'\n",
    "\n",
    "match = difflib.SequenceMatcher(None, a, b)\n",
    "c = match.ratio()*100\n",
    "print(c)"
   ]
  },
  {
   "cell_type": "markdown",
   "metadata": {},
   "source": [
    "---"
   ]
  },
  {
   "cell_type": "code",
   "execution_count": 18,
   "metadata": {},
   "outputs": [
    {
     "name": "stdout",
     "output_type": "stream",
     "text": [
      "100.0\n"
     ]
    }
   ],
   "source": [
    "d = 'Hey how are you doing today?'\n",
    "e = 'Hey how are you doing today?'\n",
    "\n",
    "match1 = difflib.SequenceMatcher(None, d, e)\n",
    "f = match1.ratio()*100\n",
    "print(f)"
   ]
  },
  {
   "cell_type": "markdown",
   "metadata": {},
   "source": [
    "---"
   ]
  },
  {
   "cell_type": "code",
   "execution_count": 20,
   "metadata": {},
   "outputs": [
    {
     "name": "stdout",
     "output_type": "stream",
     "text": [
      "18.867924528301888\n"
     ]
    }
   ],
   "source": [
    "g = 'Hey how are you doing today?'\n",
    "h = 'Fine the weather is nice!'\n",
    "\n",
    "match3 = difflib.SequenceMatcher(None, g, h)\n",
    "i = match3.ratio()*100\n",
    "print(i)"
   ]
  },
  {
   "cell_type": "markdown",
   "metadata": {},
   "source": [
    "---"
   ]
  },
  {
   "cell_type": "code",
   "execution_count": 21,
   "metadata": {
    "scrolled": true
   },
   "outputs": [
    {
     "name": "stdout",
     "output_type": "stream",
     "text": [
      "50.0\n"
     ]
    }
   ],
   "source": [
    "list1 = [1, 2, 3]\n",
    "list2 = [2, 3, 6, 7, 9]\n",
    "\n",
    "match4 = difflib.SequenceMatcher(None, list1, list2)\n",
    "lists1 = match4.ratio()*100\n",
    "print(lists1)"
   ]
  },
  {
   "cell_type": "code",
   "execution_count": 22,
   "metadata": {},
   "outputs": [
    {
     "ename": "TypeError",
     "evalue": "unhashable type: 'list'",
     "output_type": "error",
     "traceback": [
      "\u001b[0;31m---------------------------------------------------------------------------\u001b[0m",
      "\u001b[0;31mTypeError\u001b[0m                                 Traceback (most recent call last)",
      "\u001b[0;32m<ipython-input-22-3c507469a236>\u001b[0m in \u001b[0;36m<module>\u001b[0;34m()\u001b[0m\n\u001b[1;32m      2\u001b[0m \u001b[0mlist4\u001b[0m \u001b[0;34m=\u001b[0m \u001b[0;34m[\u001b[0m\u001b[0;34m[\u001b[0m\u001b[0;36m4\u001b[0m\u001b[0;34m,\u001b[0m \u001b[0;36m5\u001b[0m\u001b[0;34m,\u001b[0m \u001b[0;36m6\u001b[0m\u001b[0;34m]\u001b[0m\u001b[0;34m,\u001b[0m \u001b[0;34m[\u001b[0m\u001b[0;36m7\u001b[0m\u001b[0;34m,\u001b[0m \u001b[0;36m9\u001b[0m\u001b[0;34m]\u001b[0m\u001b[0;34m]\u001b[0m\u001b[0;34m\u001b[0m\u001b[0m\n\u001b[1;32m      3\u001b[0m \u001b[0;34m\u001b[0m\u001b[0m\n\u001b[0;32m----> 4\u001b[0;31m \u001b[0mmatch5\u001b[0m \u001b[0;34m=\u001b[0m \u001b[0mdifflib\u001b[0m\u001b[0;34m.\u001b[0m\u001b[0mSequenceMatcher\u001b[0m\u001b[0;34m(\u001b[0m\u001b[0;32mNone\u001b[0m\u001b[0;34m,\u001b[0m \u001b[0mlist3\u001b[0m\u001b[0;34m,\u001b[0m \u001b[0mlist4\u001b[0m\u001b[0;34m)\u001b[0m\u001b[0;34m\u001b[0m\u001b[0m\n\u001b[0m\u001b[1;32m      5\u001b[0m \u001b[0mlists\u001b[0m \u001b[0;34m=\u001b[0m \u001b[0mmatch4\u001b[0m\u001b[0;34m.\u001b[0m\u001b[0mratio\u001b[0m\u001b[0;34m(\u001b[0m\u001b[0;34m)\u001b[0m\u001b[0;34m*\u001b[0m\u001b[0;36m100\u001b[0m\u001b[0;34m\u001b[0m\u001b[0m\n\u001b[1;32m      6\u001b[0m \u001b[0mprint\u001b[0m\u001b[0;34m(\u001b[0m\u001b[0mlists\u001b[0m\u001b[0;34m)\u001b[0m\u001b[0;34m\u001b[0m\u001b[0m\n",
      "\u001b[0;32m/Applications/anaconda3/envs/itp_2018/lib/python3.6/difflib.py\u001b[0m in \u001b[0;36m__init__\u001b[0;34m(self, isjunk, a, b, autojunk)\u001b[0m\n\u001b[1;32m    211\u001b[0m         \u001b[0mself\u001b[0m\u001b[0;34m.\u001b[0m\u001b[0ma\u001b[0m \u001b[0;34m=\u001b[0m \u001b[0mself\u001b[0m\u001b[0;34m.\u001b[0m\u001b[0mb\u001b[0m \u001b[0;34m=\u001b[0m \u001b[0;32mNone\u001b[0m\u001b[0;34m\u001b[0m\u001b[0m\n\u001b[1;32m    212\u001b[0m         \u001b[0mself\u001b[0m\u001b[0;34m.\u001b[0m\u001b[0mautojunk\u001b[0m \u001b[0;34m=\u001b[0m \u001b[0mautojunk\u001b[0m\u001b[0;34m\u001b[0m\u001b[0m\n\u001b[0;32m--> 213\u001b[0;31m         \u001b[0mself\u001b[0m\u001b[0;34m.\u001b[0m\u001b[0mset_seqs\u001b[0m\u001b[0;34m(\u001b[0m\u001b[0ma\u001b[0m\u001b[0;34m,\u001b[0m \u001b[0mb\u001b[0m\u001b[0;34m)\u001b[0m\u001b[0;34m\u001b[0m\u001b[0m\n\u001b[0m\u001b[1;32m    214\u001b[0m \u001b[0;34m\u001b[0m\u001b[0m\n\u001b[1;32m    215\u001b[0m     \u001b[0;32mdef\u001b[0m \u001b[0mset_seqs\u001b[0m\u001b[0;34m(\u001b[0m\u001b[0mself\u001b[0m\u001b[0;34m,\u001b[0m \u001b[0ma\u001b[0m\u001b[0;34m,\u001b[0m \u001b[0mb\u001b[0m\u001b[0;34m)\u001b[0m\u001b[0;34m:\u001b[0m\u001b[0;34m\u001b[0m\u001b[0m\n",
      "\u001b[0;32m/Applications/anaconda3/envs/itp_2018/lib/python3.6/difflib.py\u001b[0m in \u001b[0;36mset_seqs\u001b[0;34m(self, a, b)\u001b[0m\n\u001b[1;32m    223\u001b[0m \u001b[0;34m\u001b[0m\u001b[0m\n\u001b[1;32m    224\u001b[0m         \u001b[0mself\u001b[0m\u001b[0;34m.\u001b[0m\u001b[0mset_seq1\u001b[0m\u001b[0;34m(\u001b[0m\u001b[0ma\u001b[0m\u001b[0;34m)\u001b[0m\u001b[0;34m\u001b[0m\u001b[0m\n\u001b[0;32m--> 225\u001b[0;31m         \u001b[0mself\u001b[0m\u001b[0;34m.\u001b[0m\u001b[0mset_seq2\u001b[0m\u001b[0;34m(\u001b[0m\u001b[0mb\u001b[0m\u001b[0;34m)\u001b[0m\u001b[0;34m\u001b[0m\u001b[0m\n\u001b[0m\u001b[1;32m    226\u001b[0m \u001b[0;34m\u001b[0m\u001b[0m\n\u001b[1;32m    227\u001b[0m     \u001b[0;32mdef\u001b[0m \u001b[0mset_seq1\u001b[0m\u001b[0;34m(\u001b[0m\u001b[0mself\u001b[0m\u001b[0;34m,\u001b[0m \u001b[0ma\u001b[0m\u001b[0;34m)\u001b[0m\u001b[0;34m:\u001b[0m\u001b[0;34m\u001b[0m\u001b[0m\n",
      "\u001b[0;32m/Applications/anaconda3/envs/itp_2018/lib/python3.6/difflib.py\u001b[0m in \u001b[0;36mset_seq2\u001b[0;34m(self, b)\u001b[0m\n\u001b[1;32m    277\u001b[0m         \u001b[0mself\u001b[0m\u001b[0;34m.\u001b[0m\u001b[0mmatching_blocks\u001b[0m \u001b[0;34m=\u001b[0m \u001b[0mself\u001b[0m\u001b[0;34m.\u001b[0m\u001b[0mopcodes\u001b[0m \u001b[0;34m=\u001b[0m \u001b[0;32mNone\u001b[0m\u001b[0;34m\u001b[0m\u001b[0m\n\u001b[1;32m    278\u001b[0m         \u001b[0mself\u001b[0m\u001b[0;34m.\u001b[0m\u001b[0mfullbcount\u001b[0m \u001b[0;34m=\u001b[0m \u001b[0;32mNone\u001b[0m\u001b[0;34m\u001b[0m\u001b[0m\n\u001b[0;32m--> 279\u001b[0;31m         \u001b[0mself\u001b[0m\u001b[0;34m.\u001b[0m\u001b[0m__chain_b\u001b[0m\u001b[0;34m(\u001b[0m\u001b[0;34m)\u001b[0m\u001b[0;34m\u001b[0m\u001b[0m\n\u001b[0m\u001b[1;32m    280\u001b[0m \u001b[0;34m\u001b[0m\u001b[0m\n\u001b[1;32m    281\u001b[0m     \u001b[0;31m# For each element x in b, set b2j[x] to a list of the indices in\u001b[0m\u001b[0;34m\u001b[0m\u001b[0;34m\u001b[0m\u001b[0m\n",
      "\u001b[0;32m/Applications/anaconda3/envs/itp_2018/lib/python3.6/difflib.py\u001b[0m in \u001b[0;36m__chain_b\u001b[0;34m(self)\u001b[0m\n\u001b[1;32m    310\u001b[0m \u001b[0;34m\u001b[0m\u001b[0m\n\u001b[1;32m    311\u001b[0m         \u001b[0;32mfor\u001b[0m \u001b[0mi\u001b[0m\u001b[0;34m,\u001b[0m \u001b[0melt\u001b[0m \u001b[0;32min\u001b[0m \u001b[0menumerate\u001b[0m\u001b[0;34m(\u001b[0m\u001b[0mb\u001b[0m\u001b[0;34m)\u001b[0m\u001b[0;34m:\u001b[0m\u001b[0;34m\u001b[0m\u001b[0m\n\u001b[0;32m--> 312\u001b[0;31m             \u001b[0mindices\u001b[0m \u001b[0;34m=\u001b[0m \u001b[0mb2j\u001b[0m\u001b[0;34m.\u001b[0m\u001b[0msetdefault\u001b[0m\u001b[0;34m(\u001b[0m\u001b[0melt\u001b[0m\u001b[0;34m,\u001b[0m \u001b[0;34m[\u001b[0m\u001b[0;34m]\u001b[0m\u001b[0;34m)\u001b[0m\u001b[0;34m\u001b[0m\u001b[0m\n\u001b[0m\u001b[1;32m    313\u001b[0m             \u001b[0mindices\u001b[0m\u001b[0;34m.\u001b[0m\u001b[0mappend\u001b[0m\u001b[0;34m(\u001b[0m\u001b[0mi\u001b[0m\u001b[0;34m)\u001b[0m\u001b[0;34m\u001b[0m\u001b[0m\n\u001b[1;32m    314\u001b[0m \u001b[0;34m\u001b[0m\u001b[0m\n",
      "\u001b[0;31mTypeError\u001b[0m: unhashable type: 'list'"
     ]
    }
   ],
   "source": [
    "list3 = [[1, 2], [3]]\n",
    "list4 = [[4, 5, 6], [7, 9]]\n",
    "\n",
    "match5 = difflib.SequenceMatcher(None, list3, list4)\n",
    "lists = match4.ratio()*100\n",
    "print(lists)"
   ]
  },
  {
   "cell_type": "markdown",
   "metadata": {},
   "source": [
    "---"
   ]
  },
  {
   "cell_type": "code",
   "execution_count": 23,
   "metadata": {},
   "outputs": [
    {
     "name": "stdout",
     "output_type": "stream",
     "text": [
      "96.875\n"
     ]
    }
   ],
   "source": [
    "dna_1 = 'AGAGCCGTCGGGTCAAAGTCAGTCAAGTTTGG'\n",
    "\n",
    "dna_2 = 'AGAGCCGTCGGGTCAAAAGTCAGTCAAGTTGG'\n",
    "\n",
    "dna_match = difflib.SequenceMatcher(None, dna_1, dna_2)\n",
    "dna_seq = dna_match.ratio()*100\n",
    "print(dna_seq)\n"
   ]
  },
  {
   "cell_type": "markdown",
   "metadata": {},
   "source": [
    "---"
   ]
  },
  {
   "cell_type": "markdown",
   "metadata": {},
   "source": [
    "# <font color='green'>difflib.get_close_matches( )</font> \n",
    "\n",
    "###  Compares words using a 'similarity score'\n",
    "\n",
    "### Returns a list of the matches above that score"
   ]
  },
  {
   "cell_type": "markdown",
   "metadata": {},
   "source": [
    "---"
   ]
  },
  {
   "cell_type": "markdown",
   "metadata": {},
   "source": [
    "## <font color='green'>difflib.get_close_matches(word, possibilities, n=3, cuttoff=0.6)</font> "
   ]
  },
  {
   "cell_type": "code",
   "execution_count": 24,
   "metadata": {},
   "outputs": [
    {
     "data": {
      "text/plain": [
       "['Helo', 'Hell', 'Heyo']"
      ]
     },
     "execution_count": 24,
     "metadata": {},
     "output_type": "execute_result"
    }
   ],
   "source": [
    "difflib.get_close_matches('Hello', ['Hi', 'Helo', 'Heyo', 'Hell', 'Bonjour', 'Bye'])"
   ]
  },
  {
   "cell_type": "markdown",
   "metadata": {},
   "source": [
    "---"
   ]
  },
  {
   "cell_type": "code",
   "execution_count": 25,
   "metadata": {},
   "outputs": [
    {
     "data": {
      "text/plain": [
       "['Hell']"
      ]
     },
     "execution_count": 25,
     "metadata": {},
     "output_type": "execute_result"
    }
   ],
   "source": [
    "difflib.get_close_matches('Hello', ['Hi', 'Hey', 'Heyo', 'Hell', 'Bonjour', 'Bye'], n = 1)"
   ]
  },
  {
   "cell_type": "markdown",
   "metadata": {},
   "source": [
    "---"
   ]
  },
  {
   "cell_type": "code",
   "execution_count": 27,
   "metadata": {},
   "outputs": [
    {
     "data": {
      "text/plain": [
       "['Hell', 'Heyo', 'Hey']"
      ]
     },
     "execution_count": 27,
     "metadata": {},
     "output_type": "execute_result"
    }
   ],
   "source": [
    "difflib.get_close_matches('Hello', ['Hi', 'Hey', 'Heyo', 'Hell', 'Bonjour', 'Bye'], n=5, cutoff=0.4)"
   ]
  },
  {
   "cell_type": "markdown",
   "metadata": {},
   "source": [
    "---"
   ]
  },
  {
   "cell_type": "markdown",
   "metadata": {},
   "source": [
    "# <font color='teal'>difflib.ndiff( )</font> \n",
    "\n",
    "\n",
    "### Compares lists of strings\n",
    "\n",
    "### Returns a delta (like differ)\n",
    "\n",
    "\n",
    "# <font color='teal'>difflib.restore( )</font> \n",
    "\n",
    "### Returns one of the sequences that generated a delta\n",
    "\n",
    "### Used after difflib.ndiff"
   ]
  },
  {
   "cell_type": "markdown",
   "metadata": {},
   "source": [
    "## <font color='teal'>difflib.ndiff(a, b)</font> \n",
    "\n"
   ]
  },
  {
   "cell_type": "code",
   "execution_count": 28,
   "metadata": {},
   "outputs": [
    {
     "name": "stdout",
     "output_type": "stream",
     "text": [
      "- hello\n",
      "- my\n",
      "+ hey\n",
      "+ mi\n",
      "- name\n",
      "?   -\n",
      "+ nae\n",
      "  is\n",
      "- Shaleigh\n",
      "?      ^ -\n",
      "+ Shaliehg\n",
      "?     + ^\n",
      "\n"
     ]
    }
   ],
   "source": [
    "diff = difflib.ndiff('hello\\nmy\\nname\\nis\\nShaleigh\\n'.splitlines(keepends=True), #line breaks included\n",
    "                    'hey\\nmi\\nnae\\nis\\nShaliehg\\n'.splitlines(keepends=True))\n",
    "print(''.join(diff))"
   ]
  },
  {
   "cell_type": "markdown",
   "metadata": {},
   "source": [
    "---"
   ]
  },
  {
   "cell_type": "markdown",
   "metadata": {},
   "source": [
    "## <font color='teal'>difflib.restore(delta, which)</font> \n",
    "\n"
   ]
  },
  {
   "cell_type": "code",
   "execution_count": 29,
   "metadata": {},
   "outputs": [
    {
     "name": "stdout",
     "output_type": "stream",
     "text": [
      "hello\n",
      "my\n",
      "name\n",
      "is\n",
      "Shaleigh\n",
      "\n"
     ]
    }
   ],
   "source": [
    "diff = difflib.ndiff('hello\\nmy\\nname\\nis\\nShaleigh\\n'.splitlines(keepends=True),\n",
    "             'hey\\nmi\\nnae\\nis\\nShaliehg\\n'.splitlines(keepends=True))\n",
    "\n",
    "diff = list(diff)\n",
    "print(''.join(difflib.restore(diff, 1)))"
   ]
  },
  {
   "cell_type": "markdown",
   "metadata": {},
   "source": [
    "---"
   ]
  },
  {
   "cell_type": "markdown",
   "metadata": {},
   "source": [
    "#  <font color='turquoise'>difflib.HtmlDiff( )</font> \n",
    "\n",
    "\n",
    "### Creates an HTML table or HTML file with table\n",
    "\n",
    "### Compares text line by line, side by side"
   ]
  },
  {
   "cell_type": "markdown",
   "metadata": {},
   "source": [
    "---\n"
   ]
  },
  {
   "cell_type": "code",
   "execution_count": null,
   "metadata": {},
   "outputs": [],
   "source": [
    "?difflib"
   ]
  },
  {
   "cell_type": "markdown",
   "metadata": {},
   "source": [
    "### Sources\n",
    "\n",
    "https://pymotw.com/3/difflib/index.html\n",
    "\n",
    "https://docs.python.org/3.6/library/difflib.html\n",
    "\n",
    "https://docs.python.org/3.6/glossary.html#term-hashable\n",
    "\n",
    "https://docs.python.org/2.4/lib/sequence-matcher.html"
   ]
  }
 ],
 "metadata": {
  "kernelspec": {
   "display_name": "Python 3",
   "language": "python",
   "name": "python3"
  },
  "language_info": {
   "codemirror_mode": {
    "name": "ipython",
    "version": 3
   },
   "file_extension": ".py",
   "mimetype": "text/x-python",
   "name": "python",
   "nbconvert_exporter": "python",
   "pygments_lexer": "ipython3",
   "version": "3.6.6"
  }
 },
 "nbformat": 4,
 "nbformat_minor": 2
}
